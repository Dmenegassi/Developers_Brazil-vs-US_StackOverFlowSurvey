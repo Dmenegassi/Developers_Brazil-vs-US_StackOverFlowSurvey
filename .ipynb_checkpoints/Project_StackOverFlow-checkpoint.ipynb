{
 "cells": [
  {
   "cell_type": "markdown",
   "id": "c919ec40",
   "metadata": {},
   "source": [
    "Importing Libraries"
   ]
  },
  {
   "cell_type": "code",
   "execution_count": 1,
   "id": "c7b76873",
   "metadata": {},
   "outputs": [],
   "source": [
    "import pandas as pd\n",
    "import numpy as np\n",
    "import matplotlib.pyplot as plt\n",
    "%matplotlib inline\n",
    "import seaborn as sns \n",
    "from sklearn.model_selection import train_test_split\n",
    "from sklearn.linear_model import LinearRegression\n",
    "from sklearn.metrics import r2_score\n"
   ]
  },
  {
   "cell_type": "markdown",
   "id": "d2500d7b",
   "metadata": {},
   "source": [
    "The main goal of this project is implement a CRIPS-DM Data Science Process over the StackOverflow Data. The porpose is identify some Business Questions and dive deep into the Data."
   ]
  },
  {
   "cell_type": "markdown",
   "id": "a57b21ac",
   "metadata": {},
   "source": [
    "Gathering Data"
   ]
  },
  {
   "cell_type": "code",
   "execution_count": 2,
   "id": "e1c8813e",
   "metadata": {
    "scrolled": true
   },
   "outputs": [
    {
     "name": "stdout",
     "output_type": "stream",
     "text": [
      "The interview was composed by 154 questions and counted with 51392 interviwers\n"
     ]
    }
   ],
   "source": [
    "#Take a look at the Data dimention\n",
    "df = pd.read_csv('./survey_results_public.csv')\n",
    "schema = pd.read_csv('./survey_results_schema.csv')\n",
    "print('The interview was composed by {} questions and counted with {} interviwers'.format(schema.shape[0], df.shape[0]))"
   ]
  },
  {
   "cell_type": "code",
   "execution_count": 3,
   "id": "7da09b0c",
   "metadata": {
    "scrolled": true
   },
   "outputs": [
    {
     "name": "stdout",
     "output_type": "stream",
     "text": [
      "The proportion of columns with at leats 1 missing values in the datafrme is 95.45%\n"
     ]
    }
   ],
   "source": [
    "#Number of columns with missing values\n",
    "num_mis_val = np.sum(np.sum(df.isnull())/df.shape[0] != 0)\n",
    "\n",
    "#Discovering the proportion of missing values\n",
    "prop_mis_val = round((num_mis_val / df.shape[1]) * 100, 2)\n",
    "print('The proportion of columns with at leats 1 missing values in the datafrme is {}%'.format(prop_mis_val))\n"
   ]
  },
  {
   "cell_type": "code",
   "execution_count": 4,
   "id": "d01cca08",
   "metadata": {},
   "outputs": [
    {
     "data": {
      "text/plain": [
       "Index(['YearsCodedJobPast', 'WebDeveloperType', 'MobileDeveloperType',\n",
       "       'NonDeveloperType', 'ExCoderReturn', 'ExCoderNotForMe',\n",
       "       'ExCoderBalance', 'ExCoder10Years', 'ExCoderBelonged', 'ExCoderSkills',\n",
       "       'ExCoderWillNotCode', 'ExCoderActive', 'HoursPerWeek',\n",
       "       'AssessJobIndustry', 'AssessJobRole', 'AssessJobExp', 'AssessJobDept',\n",
       "       'AssessJobTech', 'AssessJobProjects', 'AssessJobCompensation',\n",
       "       'AssessJobOffice', 'AssessJobCommute', 'AssessJobRemote',\n",
       "       'AssessJobLeaders', 'AssessJobProfDevel', 'AssessJobDiversity',\n",
       "       'AssessJobProduct', 'AssessJobFinances', 'JobProfile', 'ResumePrompted',\n",
       "       'LearnedHiring', 'Currency', 'Overpaid', 'EducationImportant',\n",
       "       'TimeAfterBootcamp', 'CousinEducation', 'HaveWorkedFramework',\n",
       "       'WantWorkFramework', 'WantWorkDatabase', 'MetricAssess',\n",
       "       'InfluenceWorkstation', 'InfluenceHardware', 'InfluenceServers',\n",
       "       'InfluenceTechStack', 'InfluenceDeptTech', 'InfluenceVizTools',\n",
       "       'InfluenceDatabase', 'InfluenceCloud', 'InfluenceConsultants',\n",
       "       'InfluenceRecruitment', 'InfluenceCommunication', 'Salary',\n",
       "       'ExpectedSalary'],\n",
       "      dtype='object')"
      ]
     },
     "execution_count": 4,
     "metadata": {},
     "output_type": "execute_result"
    }
   ],
   "source": [
    "#Columns with more than 75% of missing values \n",
    "df.columns[(df.isnull().mean() > .50)]"
   ]
  },
  {
   "cell_type": "code",
   "execution_count": 5,
   "id": "ca8d668c",
   "metadata": {
    "scrolled": false
   },
   "outputs": [
    {
     "data": {
      "text/html": [
       "<div>\n",
       "<style scoped>\n",
       "    .dataframe tbody tr th:only-of-type {\n",
       "        vertical-align: middle;\n",
       "    }\n",
       "\n",
       "    .dataframe tbody tr th {\n",
       "        vertical-align: top;\n",
       "    }\n",
       "\n",
       "    .dataframe thead th {\n",
       "        text-align: right;\n",
       "    }\n",
       "</style>\n",
       "<table border=\"1\" class=\"dataframe\">\n",
       "  <thead>\n",
       "    <tr style=\"text-align: right;\">\n",
       "      <th></th>\n",
       "      <th>Professional</th>\n",
       "      <th>ProgramHobby</th>\n",
       "      <th>Country</th>\n",
       "      <th>University</th>\n",
       "      <th>EmploymentStatus</th>\n",
       "      <th>FormalEducation</th>\n",
       "      <th>MajorUndergrad</th>\n",
       "      <th>HomeRemote</th>\n",
       "      <th>CompanySize</th>\n",
       "      <th>CompanyType</th>\n",
       "      <th>...</th>\n",
       "      <th>StackOverflowBetter</th>\n",
       "      <th>StackOverflowWhatDo</th>\n",
       "      <th>StackOverflowMakeMoney</th>\n",
       "      <th>Gender</th>\n",
       "      <th>HighestEducationParents</th>\n",
       "      <th>Race</th>\n",
       "      <th>SurveyLong</th>\n",
       "      <th>QuestionsInteresting</th>\n",
       "      <th>QuestionsConfusing</th>\n",
       "      <th>InterestedAnswers</th>\n",
       "    </tr>\n",
       "  </thead>\n",
       "  <tbody>\n",
       "    <tr>\n",
       "      <th>0</th>\n",
       "      <td>Student</td>\n",
       "      <td>Yes, both</td>\n",
       "      <td>United States</td>\n",
       "      <td>No</td>\n",
       "      <td>Not employed, and not looking for work</td>\n",
       "      <td>Secondary school</td>\n",
       "      <td>NaN</td>\n",
       "      <td>NaN</td>\n",
       "      <td>NaN</td>\n",
       "      <td>NaN</td>\n",
       "      <td>...</td>\n",
       "      <td>Strongly agree</td>\n",
       "      <td>Strongly agree</td>\n",
       "      <td>Strongly disagree</td>\n",
       "      <td>Male</td>\n",
       "      <td>High school</td>\n",
       "      <td>White or of European descent</td>\n",
       "      <td>Strongly disagree</td>\n",
       "      <td>Strongly agree</td>\n",
       "      <td>Disagree</td>\n",
       "      <td>Strongly agree</td>\n",
       "    </tr>\n",
       "    <tr>\n",
       "      <th>1</th>\n",
       "      <td>Student</td>\n",
       "      <td>Yes, both</td>\n",
       "      <td>United Kingdom</td>\n",
       "      <td>Yes, full-time</td>\n",
       "      <td>Employed part-time</td>\n",
       "      <td>Some college/university study without earning ...</td>\n",
       "      <td>Computer science or software engineering</td>\n",
       "      <td>More than half, but not all, the time</td>\n",
       "      <td>20 to 99 employees</td>\n",
       "      <td>Privately-held limited company, not in startup...</td>\n",
       "      <td>...</td>\n",
       "      <td>Strongly agree</td>\n",
       "      <td>Strongly agree</td>\n",
       "      <td>Strongly disagree</td>\n",
       "      <td>Male</td>\n",
       "      <td>A master's degree</td>\n",
       "      <td>White or of European descent</td>\n",
       "      <td>Somewhat agree</td>\n",
       "      <td>Somewhat agree</td>\n",
       "      <td>Disagree</td>\n",
       "      <td>Strongly agree</td>\n",
       "    </tr>\n",
       "    <tr>\n",
       "      <th>2</th>\n",
       "      <td>Professional developer</td>\n",
       "      <td>Yes, both</td>\n",
       "      <td>United Kingdom</td>\n",
       "      <td>No</td>\n",
       "      <td>Employed full-time</td>\n",
       "      <td>Bachelor's degree</td>\n",
       "      <td>Computer science or software engineering</td>\n",
       "      <td>Less than half the time, but at least one day ...</td>\n",
       "      <td>10,000 or more employees</td>\n",
       "      <td>Publicly-traded corporation</td>\n",
       "      <td>...</td>\n",
       "      <td>Agree</td>\n",
       "      <td>Agree</td>\n",
       "      <td>Disagree</td>\n",
       "      <td>Male</td>\n",
       "      <td>A professional degree</td>\n",
       "      <td>White or of European descent</td>\n",
       "      <td>Somewhat agree</td>\n",
       "      <td>Agree</td>\n",
       "      <td>Disagree</td>\n",
       "      <td>Agree</td>\n",
       "    </tr>\n",
       "    <tr>\n",
       "      <th>3</th>\n",
       "      <td>Professional non-developer who sometimes write...</td>\n",
       "      <td>Yes, both</td>\n",
       "      <td>United States</td>\n",
       "      <td>No</td>\n",
       "      <td>Employed full-time</td>\n",
       "      <td>Doctoral degree</td>\n",
       "      <td>A non-computer-focused engineering discipline</td>\n",
       "      <td>Less than half the time, but at least one day ...</td>\n",
       "      <td>10,000 or more employees</td>\n",
       "      <td>Non-profit/non-governmental organization or pr...</td>\n",
       "      <td>...</td>\n",
       "      <td>Agree</td>\n",
       "      <td>Strongly agree</td>\n",
       "      <td>Disagree</td>\n",
       "      <td>Male</td>\n",
       "      <td>A doctoral degree</td>\n",
       "      <td>White or of European descent</td>\n",
       "      <td>Agree</td>\n",
       "      <td>Agree</td>\n",
       "      <td>Somewhat agree</td>\n",
       "      <td>Strongly agree</td>\n",
       "    </tr>\n",
       "    <tr>\n",
       "      <th>4</th>\n",
       "      <td>Professional developer</td>\n",
       "      <td>Yes, I program as a hobby</td>\n",
       "      <td>Switzerland</td>\n",
       "      <td>No</td>\n",
       "      <td>Employed full-time</td>\n",
       "      <td>Master's degree</td>\n",
       "      <td>Computer science or software engineering</td>\n",
       "      <td>Never</td>\n",
       "      <td>10 to 19 employees</td>\n",
       "      <td>Privately-held limited company, not in startup...</td>\n",
       "      <td>...</td>\n",
       "      <td>NaN</td>\n",
       "      <td>NaN</td>\n",
       "      <td>NaN</td>\n",
       "      <td>NaN</td>\n",
       "      <td>NaN</td>\n",
       "      <td>NaN</td>\n",
       "      <td>NaN</td>\n",
       "      <td>NaN</td>\n",
       "      <td>NaN</td>\n",
       "      <td>NaN</td>\n",
       "    </tr>\n",
       "  </tbody>\n",
       "</table>\n",
       "<p>5 rows × 147 columns</p>\n",
       "</div>"
      ],
      "text/plain": [
       "                                        Professional  \\\n",
       "0                                            Student   \n",
       "1                                            Student   \n",
       "2                             Professional developer   \n",
       "3  Professional non-developer who sometimes write...   \n",
       "4                             Professional developer   \n",
       "\n",
       "                ProgramHobby         Country      University  \\\n",
       "0                  Yes, both   United States              No   \n",
       "1                  Yes, both  United Kingdom  Yes, full-time   \n",
       "2                  Yes, both  United Kingdom              No   \n",
       "3                  Yes, both   United States              No   \n",
       "4  Yes, I program as a hobby     Switzerland              No   \n",
       "\n",
       "                         EmploymentStatus  \\\n",
       "0  Not employed, and not looking for work   \n",
       "1                      Employed part-time   \n",
       "2                      Employed full-time   \n",
       "3                      Employed full-time   \n",
       "4                      Employed full-time   \n",
       "\n",
       "                                     FormalEducation  \\\n",
       "0                                   Secondary school   \n",
       "1  Some college/university study without earning ...   \n",
       "2                                  Bachelor's degree   \n",
       "3                                    Doctoral degree   \n",
       "4                                    Master's degree   \n",
       "\n",
       "                                  MajorUndergrad  \\\n",
       "0                                            NaN   \n",
       "1       Computer science or software engineering   \n",
       "2       Computer science or software engineering   \n",
       "3  A non-computer-focused engineering discipline   \n",
       "4       Computer science or software engineering   \n",
       "\n",
       "                                          HomeRemote  \\\n",
       "0                                                NaN   \n",
       "1              More than half, but not all, the time   \n",
       "2  Less than half the time, but at least one day ...   \n",
       "3  Less than half the time, but at least one day ...   \n",
       "4                                              Never   \n",
       "\n",
       "                CompanySize  \\\n",
       "0                       NaN   \n",
       "1        20 to 99 employees   \n",
       "2  10,000 or more employees   \n",
       "3  10,000 or more employees   \n",
       "4        10 to 19 employees   \n",
       "\n",
       "                                         CompanyType  ... StackOverflowBetter  \\\n",
       "0                                                NaN  ...      Strongly agree   \n",
       "1  Privately-held limited company, not in startup...  ...      Strongly agree   \n",
       "2                        Publicly-traded corporation  ...               Agree   \n",
       "3  Non-profit/non-governmental organization or pr...  ...               Agree   \n",
       "4  Privately-held limited company, not in startup...  ...                 NaN   \n",
       "\n",
       "  StackOverflowWhatDo StackOverflowMakeMoney Gender HighestEducationParents  \\\n",
       "0      Strongly agree      Strongly disagree   Male             High school   \n",
       "1      Strongly agree      Strongly disagree   Male       A master's degree   \n",
       "2               Agree               Disagree   Male   A professional degree   \n",
       "3      Strongly agree               Disagree   Male       A doctoral degree   \n",
       "4                 NaN                    NaN    NaN                     NaN   \n",
       "\n",
       "                           Race         SurveyLong QuestionsInteresting  \\\n",
       "0  White or of European descent  Strongly disagree       Strongly agree   \n",
       "1  White or of European descent     Somewhat agree       Somewhat agree   \n",
       "2  White or of European descent     Somewhat agree                Agree   \n",
       "3  White or of European descent              Agree                Agree   \n",
       "4                           NaN                NaN                  NaN   \n",
       "\n",
       "  QuestionsConfusing InterestedAnswers  \n",
       "0           Disagree    Strongly agree  \n",
       "1           Disagree    Strongly agree  \n",
       "2           Disagree             Agree  \n",
       "3     Somewhat agree    Strongly agree  \n",
       "4                NaN               NaN  \n",
       "\n",
       "[5 rows x 147 columns]"
      ]
     },
     "execution_count": 5,
     "metadata": {},
     "output_type": "execute_result"
    }
   ],
   "source": [
    "#The categorical values are\n",
    "df.select_dtypes(include=['object']).head()"
   ]
  },
  {
   "cell_type": "markdown",
   "id": "ffc795b6",
   "metadata": {},
   "source": [
    "Lets take a look and compare some aspects between a developed country and an emergin country. In this case we are going to analyse the US and Brasil about some aspects."
   ]
  },
  {
   "cell_type": "code",
   "execution_count": 6,
   "id": "90de1017",
   "metadata": {},
   "outputs": [
    {
     "data": {
      "text/plain": [
       "5    Which of the following best describes your cur...\n",
       "Name: Question, dtype: object"
      ]
     },
     "execution_count": 6,
     "metadata": {},
     "output_type": "execute_result"
    }
   ],
   "source": [
    "#The first question of interest\n",
    "schema[schema['Column'] == 'EmploymentStatus']['Question']"
   ]
  },
  {
   "cell_type": "markdown",
   "id": "f951f109",
   "metadata": {},
   "source": [
    "Data Understanding"
   ]
  },
  {
   "cell_type": "code",
   "execution_count": 7,
   "id": "cd9a40ed",
   "metadata": {
    "scrolled": true
   },
   "outputs": [
    {
     "data": {
      "text/plain": [
       "0.0"
      ]
     },
     "execution_count": 7,
     "metadata": {},
     "output_type": "execute_result"
    }
   ],
   "source": [
    "#Counts of null values in EmploymentStatus Column\n",
    "df['EmploymentStatus'].isnull().sum() / df.shape[0]"
   ]
  },
  {
   "cell_type": "code",
   "execution_count": 8,
   "id": "5738e795",
   "metadata": {
    "scrolled": false
   },
   "outputs": [
    {
     "data": {
      "text/plain": [
       "Employed full-time                                      0.703378\n",
       "Independent contractor, freelancer, or self-employed    0.101825\n",
       "Employed part-time                                      0.061877\n",
       "Not employed, and not looking for work                  0.054308\n",
       "Not employed, but looking for work                      0.054211\n",
       "I prefer not to say                                     0.021132\n",
       "Retired                                                 0.003269\n",
       "Name: EmploymentStatus, dtype: float64"
      ]
     },
     "execution_count": 8,
     "metadata": {},
     "output_type": "execute_result"
    }
   ],
   "source": [
    "#The proportion of the EmploymentStatus can be seen below\n",
    "dev_type_prop = df['EmploymentStatus'].value_counts() / df.shape[0]\n",
    "dev_type_prop[:10]\n"
   ]
  },
  {
   "cell_type": "code",
   "execution_count": 9,
   "id": "13eabde9",
   "metadata": {
    "scrolled": true
   },
   "outputs": [
    {
     "data": {
      "text/plain": [
       "<AxesSubplot:>"
      ]
     },
     "execution_count": 9,
     "metadata": {},
     "output_type": "execute_result"
    },
    {
     "data": {
      "image/png": "[encoded data removed]",
      "text/plain": [
       "<Figure size 432x288 with 1 Axes>"
      ]
     },
     "metadata": {
      "needs_background": "light"
     },
     "output_type": "display_data"
    }
   ],
   "source": [
    "dev_type_prop.plot(kind='barh')"
   ]
  },
  {
   "cell_type": "code",
   "execution_count": 10,
   "id": "840e2802",
   "metadata": {},
   "outputs": [
    {
     "data": {
      "text/plain": [
       "['Not employed, and not looking for work',\n",
       " 'Employed part-time',\n",
       " 'Employed full-time',\n",
       " 'Independent contractor, freelancer, or self-employed',\n",
       " 'Not employed, but looking for work',\n",
       " 'I prefer not to say']"
      ]
     },
     "execution_count": 10,
     "metadata": {},
     "output_type": "execute_result"
    }
   ],
   "source": [
    "#Employment Levels for analysis\n",
    "emp_levels = list(df['EmploymentStatus'].unique())\n",
    "emp_levels.remove('Retired') #Remove Retired was necessary, because there are any retired in brazilian's answers\n",
    "emp_levels"
   ]
  },
  {
   "cell_type": "markdown",
   "id": "4180faad",
   "metadata": {},
   "source": [
    "What's the participation of each country in the survey?"
   ]
  },
  {
   "cell_type": "code",
   "execution_count": 11,
   "id": "96525cb0",
   "metadata": {
    "scrolled": true
   },
   "outputs": [
    {
     "data": {
      "text/plain": [
       "Employed full-time                                      513\n",
       "Independent contractor, freelancer, or self-employed    111\n",
       "Employed part-time                                       63\n",
       "Not employed, but looking for work                       51\n",
       "Not employed, and not looking for work                   31\n",
       "I prefer not to say                                       8\n",
       "Name: EmploymentStatus, dtype: int64"
      ]
     },
     "execution_count": 11,
     "metadata": {},
     "output_type": "execute_result"
    }
   ],
   "source": [
    "#Take a look into brazilian employment status in absolute terms\n",
    "br = df.loc[df['Country'] == 'Brazil']['EmploymentStatus'].value_counts()\n",
    "br"
   ]
  },
  {
   "cell_type": "code",
   "execution_count": 12,
   "id": "d5955520",
   "metadata": {},
   "outputs": [
    {
     "data": {
      "text/plain": [
       "Employed full-time                                      8786\n",
       "Independent contractor, freelancer, or self-employed     773\n",
       "Employed part-time                                       598\n",
       "Not employed, and not looking for work                   536\n",
       "Not employed, but looking for work                       527\n",
       "I prefer not to say                                      177\n",
       "Retired                                                   58\n",
       "Name: EmploymentStatus, dtype: int64"
      ]
     },
     "execution_count": 12,
     "metadata": {},
     "output_type": "execute_result"
    }
   ],
   "source": [
    "#Take a look into american employment status in absolute terms\n",
    "us = df.loc[df['Country'] == 'United States']['EmploymentStatus'].value_counts()\n",
    "us"
   ]
  },
  {
   "cell_type": "code",
   "execution_count": 13,
   "id": "4fd2679f",
   "metadata": {
    "scrolled": true
   },
   "outputs": [
    {
     "name": "stdout",
     "output_type": "stream",
     "text": [
      "The first observation is about the representative of Brazil in comparison to US. Only 777 brazilian answers against 11455 americans\n"
     ]
    }
   ],
   "source": [
    "print('The first observation is about the representative of Brazil in comparison to US. Only {} brazilian answers against {} americans'.format(br.sum(),us.sum()))"
   ]
  },
  {
   "cell_type": "code",
   "execution_count": 14,
   "id": "15047cc4",
   "metadata": {},
   "outputs": [],
   "source": [
    "#Puting all togheter in a Data Frame\n",
    "contries = ['Brazil', 'United States']\n",
    "def emp_country(DF):\n",
    "    \"\"\"\n",
    "    INPUT: Dataframe\n",
    "    \n",
    "    OUTPUT: A new dataframe with brazilain and american employment status and their's respective values\n",
    "    \"\"\"\n",
    "    temp = pd.DataFrame()\n",
    "    df = DF.copy()\n",
    "    for i in contries:\n",
    "        \n",
    "        Country = df.loc[df['Country'] == i]\n",
    "        prop = Country['EmploymentStatus'].value_counts() / Country.shape[0]\n",
    "        temp[i] = prop\n",
    " \n",
    "    return temp"
   ]
  },
  {
   "cell_type": "code",
   "execution_count": 15,
   "id": "ce04156a",
   "metadata": {
    "scrolled": false
   },
   "outputs": [
    {
     "data": {
      "text/html": [
       "<div>\n",
       "<style scoped>\n",
       "    .dataframe tbody tr th:only-of-type {\n",
       "        vertical-align: middle;\n",
       "    }\n",
       "\n",
       "    .dataframe tbody tr th {\n",
       "        vertical-align: top;\n",
       "    }\n",
       "\n",
       "    .dataframe thead th {\n",
       "        text-align: right;\n",
       "    }\n",
       "</style>\n",
       "<table border=\"1\" class=\"dataframe\">\n",
       "  <thead>\n",
       "    <tr style=\"text-align: right;\">\n",
       "      <th></th>\n",
       "      <th>Brazil</th>\n",
       "      <th>United States</th>\n",
       "    </tr>\n",
       "  </thead>\n",
       "  <tbody>\n",
       "    <tr>\n",
       "      <th>Employed full-time</th>\n",
       "      <td>0.660232</td>\n",
       "      <td>0.767001</td>\n",
       "    </tr>\n",
       "    <tr>\n",
       "      <th>Independent contractor, freelancer, or self-employed</th>\n",
       "      <td>0.142857</td>\n",
       "      <td>0.067481</td>\n",
       "    </tr>\n",
       "    <tr>\n",
       "      <th>Employed part-time</th>\n",
       "      <td>0.081081</td>\n",
       "      <td>0.052204</td>\n",
       "    </tr>\n",
       "    <tr>\n",
       "      <th>Not employed, but looking for work</th>\n",
       "      <td>0.065637</td>\n",
       "      <td>0.046006</td>\n",
       "    </tr>\n",
       "    <tr>\n",
       "      <th>Not employed, and not looking for work</th>\n",
       "      <td>0.039897</td>\n",
       "      <td>0.046792</td>\n",
       "    </tr>\n",
       "    <tr>\n",
       "      <th>I prefer not to say</th>\n",
       "      <td>0.010296</td>\n",
       "      <td>0.015452</td>\n",
       "    </tr>\n",
       "  </tbody>\n",
       "</table>\n",
       "</div>"
      ],
      "text/plain": [
       "                                                      Brazil  United States\n",
       "Employed full-time                                  0.660232       0.767001\n",
       "Independent contractor, freelancer, or self-emp...  0.142857       0.067481\n",
       "Employed part-time                                  0.081081       0.052204\n",
       "Not employed, but looking for work                  0.065637       0.046006\n",
       "Not employed, and not looking for work              0.039897       0.046792\n",
       "I prefer not to say                                 0.010296       0.015452"
      ]
     },
     "execution_count": 15,
     "metadata": {},
     "output_type": "execute_result"
    }
   ],
   "source": [
    "#Compiled data\n",
    "emp_country(df)"
   ]
  },
  {
   "cell_type": "code",
   "execution_count": 16,
   "id": "8a6df9fb",
   "metadata": {
    "scrolled": true
   },
   "outputs": [
    {
     "data": {
      "text/plain": [
       "<AxesSubplot:title={'center':'Employment Status by Country'}>"
      ]
     },
     "execution_count": 16,
     "metadata": {},
     "output_type": "execute_result"
    },
    {
     "data": {
      "image/png": "[encoded data removed]",
      "text/plain": [
       "<Figure size 720x360 with 1 Axes>"
      ]
     },
     "metadata": {
      "needs_background": "light"
     },
     "output_type": "display_data"
    }
   ],
   "source": [
    "#Plot with the results above\n",
    "emp_country(df).plot(kind='barh', figsize=(10,5), title='Employment Status by Country')"
   ]
  },
  {
   "cell_type": "markdown",
   "id": "af796df4",
   "metadata": {},
   "source": [
    "From the plot above it is possible to say that in relative terms the US outweigh Brazil in Employed Full-time, Not Employed, and not looking for work and I prefer not to say. While in Brazil is more representative in the others levels. The major difference is in Independent contractor, freelancer or self-employed. In Brazil it is in the second position with 14,28% while in US this is only 6,74%. "
   ]
  },
  {
   "cell_type": "markdown",
   "id": "3511bef3",
   "metadata": {},
   "source": [
    "How the programers learn in these two countries?"
   ]
  },
  {
   "cell_type": "code",
   "execution_count": 17,
   "id": "7bdbf4b8",
   "metadata": {},
   "outputs": [],
   "source": [
    "#Spliting the multiples answers with more them one kind of education type and counting the unique values for each country\n",
    "\n",
    "from collections import Counter as ct\n",
    "\n",
    "def cl_df(DF,col,ref):\n",
    "    \"\"\"\n",
    "    INPUT:\n",
    "    DF: The general dataframe\n",
    "    col: Column of interest with the data to be analysed \n",
    "    ref: Reference of Country, used to filter the general dataframe\n",
    "    \n",
    "    OUTPUT:\n",
    "    New dataframe with each line with the sum of each possible value for the respective col\n",
    "    \n",
    "    \"\"\"\n",
    "    \n",
    "    split_list = []\n",
    "    df = DF.loc[DF['Country'] == ref]\n",
    "    df = df[col].dropna()\n",
    "    df = df.reset_index()\n",
    "    df = df[col].str.split(\";\")   \n",
    "    \n",
    "    for i in range(0, len(df)):        \n",
    "        split_list += (df[i])\n",
    "        \n",
    "    for i in range(0 , len(split_list)):\n",
    "        split_list[i] = split_list[i].strip()\n",
    "\n",
    "    final_list = list(set(split_list))\n",
    "\n",
    "       \n",
    "    Counter_list = ct(split_list)\n",
    "    new_df = pd.DataFrame({col:Counter_list.keys(),str(ref):Counter_list.values()})\n",
    "    \n",
    "    return new_df\n",
    "\n",
    "\n",
    "\n"
   ]
  },
  {
   "cell_type": "code",
   "execution_count": 18,
   "id": "1db6d6e0",
   "metadata": {
    "scrolled": true
   },
   "outputs": [
    {
     "data": {
      "text/html": [
       "<div>\n",
       "<style scoped>\n",
       "    .dataframe tbody tr th:only-of-type {\n",
       "        vertical-align: middle;\n",
       "    }\n",
       "\n",
       "    .dataframe tbody tr th {\n",
       "        vertical-align: top;\n",
       "    }\n",
       "\n",
       "    .dataframe thead th {\n",
       "        text-align: right;\n",
       "    }\n",
       "</style>\n",
       "<table border=\"1\" class=\"dataframe\">\n",
       "  <thead>\n",
       "    <tr style=\"text-align: right;\">\n",
       "      <th></th>\n",
       "      <th>EducationTypes</th>\n",
       "      <th>Brazil</th>\n",
       "    </tr>\n",
       "  </thead>\n",
       "  <tbody>\n",
       "    <tr>\n",
       "      <th>2</th>\n",
       "      <td>Self-taught</td>\n",
       "      <td>0.277814</td>\n",
       "    </tr>\n",
       "    <tr>\n",
       "      <th>0</th>\n",
       "      <td>Online course</td>\n",
       "      <td>0.195498</td>\n",
       "    </tr>\n",
       "    <tr>\n",
       "      <th>5</th>\n",
       "      <td>Open source contributions</td>\n",
       "      <td>0.117042</td>\n",
       "    </tr>\n",
       "    <tr>\n",
       "      <th>4</th>\n",
       "      <td>On-the-job training</td>\n",
       "      <td>0.116399</td>\n",
       "    </tr>\n",
       "    <tr>\n",
       "      <th>1</th>\n",
       "      <td>Part-time/evening course</td>\n",
       "      <td>0.090675</td>\n",
       "    </tr>\n",
       "    <tr>\n",
       "      <th>3</th>\n",
       "      <td>Coding competition</td>\n",
       "      <td>0.067524</td>\n",
       "    </tr>\n",
       "    <tr>\n",
       "      <th>7</th>\n",
       "      <td>Hackathon</td>\n",
       "      <td>0.058521</td>\n",
       "    </tr>\n",
       "    <tr>\n",
       "      <th>6</th>\n",
       "      <td>Industry certification</td>\n",
       "      <td>0.056592</td>\n",
       "    </tr>\n",
       "    <tr>\n",
       "      <th>8</th>\n",
       "      <td>Bootcamp</td>\n",
       "      <td>0.019936</td>\n",
       "    </tr>\n",
       "  </tbody>\n",
       "</table>\n",
       "</div>"
      ],
      "text/plain": [
       "              EducationTypes    Brazil\n",
       "2                Self-taught  0.277814\n",
       "0              Online course  0.195498\n",
       "5  Open source contributions  0.117042\n",
       "4        On-the-job training  0.116399\n",
       "1   Part-time/evening course  0.090675\n",
       "3         Coding competition  0.067524\n",
       "7                  Hackathon  0.058521\n",
       "6     Industry certification  0.056592\n",
       "8                   Bootcamp  0.019936"
      ]
     },
     "execution_count": 18,
     "metadata": {},
     "output_type": "execute_result"
    }
   ],
   "source": [
    "#Brazilian education\n",
    "bra_education = cl_df(df,'EducationTypes', 'Brazil')\n",
    "bra_education.set_index('EducationTypes').sort_values(by=['Brazil'],ascending=False)\n",
    "bra_education['Brazil'] = bra_education['Brazil'] / bra_education['Brazil'].sum()\n",
    "bra_education.sort_values(by=['Brazil'],ascending=False, inplace=True)\n",
    "bra_education"
   ]
  },
  {
   "cell_type": "code",
   "execution_count": 19,
   "id": "6243e258",
   "metadata": {
    "scrolled": true
   },
   "outputs": [
    {
     "data": {
      "text/html": [
       "<div>\n",
       "<style scoped>\n",
       "    .dataframe tbody tr th:only-of-type {\n",
       "        vertical-align: middle;\n",
       "    }\n",
       "\n",
       "    .dataframe tbody tr th {\n",
       "        vertical-align: top;\n",
       "    }\n",
       "\n",
       "    .dataframe thead th {\n",
       "        text-align: right;\n",
       "    }\n",
       "</style>\n",
       "<table border=\"1\" class=\"dataframe\">\n",
       "  <thead>\n",
       "    <tr style=\"text-align: right;\">\n",
       "      <th></th>\n",
       "      <th>EducationTypes</th>\n",
       "      <th>United States</th>\n",
       "    </tr>\n",
       "  </thead>\n",
       "  <tbody>\n",
       "    <tr>\n",
       "      <th>4</th>\n",
       "      <td>Self-taught</td>\n",
       "      <td>0.289357</td>\n",
       "    </tr>\n",
       "    <tr>\n",
       "      <th>3</th>\n",
       "      <td>On-the-job training</td>\n",
       "      <td>0.152750</td>\n",
       "    </tr>\n",
       "    <tr>\n",
       "      <th>0</th>\n",
       "      <td>Online course</td>\n",
       "      <td>0.146470</td>\n",
       "    </tr>\n",
       "    <tr>\n",
       "      <th>1</th>\n",
       "      <td>Open source contributions</td>\n",
       "      <td>0.128008</td>\n",
       "    </tr>\n",
       "    <tr>\n",
       "      <th>6</th>\n",
       "      <td>Hackathon</td>\n",
       "      <td>0.086407</td>\n",
       "    </tr>\n",
       "    <tr>\n",
       "      <th>5</th>\n",
       "      <td>Coding competition</td>\n",
       "      <td>0.072835</td>\n",
       "    </tr>\n",
       "    <tr>\n",
       "      <th>8</th>\n",
       "      <td>Industry certification</td>\n",
       "      <td>0.046870</td>\n",
       "    </tr>\n",
       "    <tr>\n",
       "      <th>2</th>\n",
       "      <td>Part-time/evening course</td>\n",
       "      <td>0.045648</td>\n",
       "    </tr>\n",
       "    <tr>\n",
       "      <th>7</th>\n",
       "      <td>Bootcamp</td>\n",
       "      <td>0.031654</td>\n",
       "    </tr>\n",
       "  </tbody>\n",
       "</table>\n",
       "</div>"
      ],
      "text/plain": [
       "              EducationTypes  United States\n",
       "4                Self-taught       0.289357\n",
       "3        On-the-job training       0.152750\n",
       "0              Online course       0.146470\n",
       "1  Open source contributions       0.128008\n",
       "6                  Hackathon       0.086407\n",
       "5         Coding competition       0.072835\n",
       "8     Industry certification       0.046870\n",
       "2   Part-time/evening course       0.045648\n",
       "7                   Bootcamp       0.031654"
      ]
     },
     "execution_count": 19,
     "metadata": {},
     "output_type": "execute_result"
    }
   ],
   "source": [
    "#American education\n",
    "us_education = cl_df(df,'EducationTypes', 'United States')\n",
    "us_education.set_index('EducationTypes').sort_values(by=['United States'],ascending=False)\n",
    "us_education['United States'] = us_education['United States'] / us_education['United States'].sum()\n",
    "us_education.sort_values(by=['United States'],ascending=False, inplace=True)\n",
    "us_education"
   ]
  },
  {
   "cell_type": "markdown",
   "id": "55c6fcfe",
   "metadata": {},
   "source": [
    "As the comparison indicates, in the first position for both countries, the main way for learn in this field is self-taught independing of the country. However the position of the others education types revel that there are some important differences and that reflects the Employment Status analysis. The US labor market is stronger and  gives more oportunities to people learn from On-the-job training, while in Brazil it appears only in forth position. "
   ]
  },
  {
   "cell_type": "code",
   "execution_count": 20,
   "id": "f311cccd",
   "metadata": {
    "scrolled": true
   },
   "outputs": [
    {
     "data": {
      "text/html": [
       "<div>\n",
       "<style scoped>\n",
       "    .dataframe tbody tr th:only-of-type {\n",
       "        vertical-align: middle;\n",
       "    }\n",
       "\n",
       "    .dataframe tbody tr th {\n",
       "        vertical-align: top;\n",
       "    }\n",
       "\n",
       "    .dataframe thead th {\n",
       "        text-align: right;\n",
       "    }\n",
       "</style>\n",
       "<table border=\"1\" class=\"dataframe\">\n",
       "  <thead>\n",
       "    <tr style=\"text-align: right;\">\n",
       "      <th></th>\n",
       "      <th>Brazil</th>\n",
       "      <th>United States</th>\n",
       "    </tr>\n",
       "    <tr>\n",
       "      <th>EducationTypes</th>\n",
       "      <th></th>\n",
       "      <th></th>\n",
       "    </tr>\n",
       "  </thead>\n",
       "  <tbody>\n",
       "    <tr>\n",
       "      <th>Self-taught</th>\n",
       "      <td>0.277814</td>\n",
       "      <td>0.289357</td>\n",
       "    </tr>\n",
       "    <tr>\n",
       "      <th>Online course</th>\n",
       "      <td>0.195498</td>\n",
       "      <td>0.146470</td>\n",
       "    </tr>\n",
       "    <tr>\n",
       "      <th>Open source contributions</th>\n",
       "      <td>0.117042</td>\n",
       "      <td>0.128008</td>\n",
       "    </tr>\n",
       "    <tr>\n",
       "      <th>On-the-job training</th>\n",
       "      <td>0.116399</td>\n",
       "      <td>0.152750</td>\n",
       "    </tr>\n",
       "    <tr>\n",
       "      <th>Part-time/evening course</th>\n",
       "      <td>0.090675</td>\n",
       "      <td>0.045648</td>\n",
       "    </tr>\n",
       "    <tr>\n",
       "      <th>Coding competition</th>\n",
       "      <td>0.067524</td>\n",
       "      <td>0.072835</td>\n",
       "    </tr>\n",
       "    <tr>\n",
       "      <th>Hackathon</th>\n",
       "      <td>0.058521</td>\n",
       "      <td>0.086407</td>\n",
       "    </tr>\n",
       "    <tr>\n",
       "      <th>Industry certification</th>\n",
       "      <td>0.056592</td>\n",
       "      <td>0.046870</td>\n",
       "    </tr>\n",
       "    <tr>\n",
       "      <th>Bootcamp</th>\n",
       "      <td>0.019936</td>\n",
       "      <td>0.031654</td>\n",
       "    </tr>\n",
       "  </tbody>\n",
       "</table>\n",
       "</div>"
      ],
      "text/plain": [
       "                             Brazil  United States\n",
       "EducationTypes                                    \n",
       "Self-taught                0.277814       0.289357\n",
       "Online course              0.195498       0.146470\n",
       "Open source contributions  0.117042       0.128008\n",
       "On-the-job training        0.116399       0.152750\n",
       "Part-time/evening course   0.090675       0.045648\n",
       "Coding competition         0.067524       0.072835\n",
       "Hackathon                  0.058521       0.086407\n",
       "Industry certification     0.056592       0.046870\n",
       "Bootcamp                   0.019936       0.031654"
      ]
     },
     "execution_count": 20,
     "metadata": {},
     "output_type": "execute_result"
    }
   ],
   "source": [
    "#Compiled data\n",
    "comparative = pd.merge(bra_education,us_education, on='EducationTypes', how='inner').set_index('EducationTypes')\n",
    "comparative.sort_values(by=['Brazil'],ascending=False, inplace=True)\n",
    "comparative"
   ]
  },
  {
   "cell_type": "code",
   "execution_count": 21,
   "id": "3c1b6f09",
   "metadata": {
    "scrolled": false
   },
   "outputs": [
    {
     "data": {
      "text/plain": [
       "<AxesSubplot:ylabel='EducationTypes'>"
      ]
     },
     "execution_count": 21,
     "metadata": {},
     "output_type": "execute_result"
    },
    {
     "data": {
      "image/png": "[encoded data removed]",
      "text/plain": [
       "<Figure size 1440x1080 with 1 Axes>"
      ]
     },
     "metadata": {
      "needs_background": "light"
     },
     "output_type": "display_data"
    }
   ],
   "source": [
    "#Plot with the results above\n",
    "comparative.plot(kind='barh', figsize=(20,15))"
   ]
  },
  {
   "cell_type": "markdown",
   "id": "d3eb78b0",
   "metadata": {},
   "source": [
    "There are some ways to learn, but all of them will reflects in the is Years of Programing. How experienced are the programmers in these two countries?"
   ]
  },
  {
   "cell_type": "code",
   "execution_count": 22,
   "id": "35b5aaec",
   "metadata": {},
   "outputs": [
    {
     "data": {
      "text/plain": [
       "20 or more years    85\n",
       "9 to 10 years       63\n",
       "5 to 6 years        62\n",
       "6 to 7 years        55\n",
       "4 to 5 years        55\n",
       "3 to 4 years        52\n",
       "7 to 8 years        48\n",
       "2 to 3 years        40\n",
       "11 to 12 years      38\n",
       "14 to 15 years      35\n",
       "8 to 9 years        34\n",
       "1 to 2 years        33\n",
       "15 to 16 years      32\n",
       "10 to 11 years      32\n",
       "12 to 13 years      22\n",
       "16 to 17 years      20\n",
       "13 to 14 years      16\n",
       "Less than a year    16\n",
       "17 to 18 years      15\n",
       "19 to 20 years      15\n",
       "18 to 19 years       7\n",
       "Name: YearsProgram, dtype: int64"
      ]
     },
     "execution_count": 22,
     "metadata": {},
     "output_type": "execute_result"
    }
   ],
   "source": [
    "df.loc[df['Country'] == 'Brazil']['YearsProgram'].value_counts()"
   ]
  },
  {
   "cell_type": "markdown",
   "id": "00df8b0b",
   "metadata": {
    "scrolled": false
   },
   "source": [
    "year_dict = {'20 or more years': 20,'9 to 10 years': 9,'5 to 6 years':5,'6 to 7 years':6,'4 to 5 years':4,\n",
    "            '3 to 4 years':3,'7 to 8 years':7,'2 to 3 years':2,'11 to 12 years':11,'14 to 15 years':14,'8 to 9 years':8,\n",
    "           '1 to 2 years':1,'15 to 16 years':15,'10 to 11 years':10,'12 to 13 years':12,'16 to 17 years':16,'13 to 14 years':13,\n",
    "           'Less than a year':0,'17 to 18 years':17,'18 to 19 years':18,'19 to 20 years':19}\n",
    "year_dict"
   ]
  },
  {
   "cell_type": "markdown",
   "id": "acb88894",
   "metadata": {},
   "source": [
    "How experienced are the programmers in both countries?"
   ]
  },
  {
   "cell_type": "code",
   "execution_count": 23,
   "id": "d06d8537",
   "metadata": {},
   "outputs": [
    {
     "data": {
      "text/html": [
       "<div>\n",
       "<style scoped>\n",
       "    .dataframe tbody tr th:only-of-type {\n",
       "        vertical-align: middle;\n",
       "    }\n",
       "\n",
       "    .dataframe tbody tr th {\n",
       "        vertical-align: top;\n",
       "    }\n",
       "\n",
       "    .dataframe thead th {\n",
       "        text-align: right;\n",
       "    }\n",
       "</style>\n",
       "<table border=\"1\" class=\"dataframe\">\n",
       "  <thead>\n",
       "    <tr style=\"text-align: right;\">\n",
       "      <th></th>\n",
       "      <th>YearsProgram</th>\n",
       "      <th>Brazil</th>\n",
       "    </tr>\n",
       "  </thead>\n",
       "  <tbody>\n",
       "    <tr>\n",
       "      <th>12</th>\n",
       "      <td>20 or more years</td>\n",
       "      <td>0.109677</td>\n",
       "    </tr>\n",
       "    <tr>\n",
       "      <th>6</th>\n",
       "      <td>9 to 10 years</td>\n",
       "      <td>0.081290</td>\n",
       "    </tr>\n",
       "    <tr>\n",
       "      <th>0</th>\n",
       "      <td>5 to 6 years</td>\n",
       "      <td>0.080000</td>\n",
       "    </tr>\n",
       "    <tr>\n",
       "      <th>8</th>\n",
       "      <td>6 to 7 years</td>\n",
       "      <td>0.070968</td>\n",
       "    </tr>\n",
       "    <tr>\n",
       "      <th>2</th>\n",
       "      <td>4 to 5 years</td>\n",
       "      <td>0.070968</td>\n",
       "    </tr>\n",
       "    <tr>\n",
       "      <th>16</th>\n",
       "      <td>3 to 4 years</td>\n",
       "      <td>0.067097</td>\n",
       "    </tr>\n",
       "    <tr>\n",
       "      <th>1</th>\n",
       "      <td>7 to 8 years</td>\n",
       "      <td>0.061935</td>\n",
       "    </tr>\n",
       "    <tr>\n",
       "      <th>13</th>\n",
       "      <td>2 to 3 years</td>\n",
       "      <td>0.051613</td>\n",
       "    </tr>\n",
       "    <tr>\n",
       "      <th>4</th>\n",
       "      <td>11 to 12 years</td>\n",
       "      <td>0.049032</td>\n",
       "    </tr>\n",
       "    <tr>\n",
       "      <th>5</th>\n",
       "      <td>14 to 15 years</td>\n",
       "      <td>0.045161</td>\n",
       "    </tr>\n",
       "    <tr>\n",
       "      <th>3</th>\n",
       "      <td>8 to 9 years</td>\n",
       "      <td>0.043871</td>\n",
       "    </tr>\n",
       "    <tr>\n",
       "      <th>11</th>\n",
       "      <td>1 to 2 years</td>\n",
       "      <td>0.042581</td>\n",
       "    </tr>\n",
       "    <tr>\n",
       "      <th>9</th>\n",
       "      <td>15 to 16 years</td>\n",
       "      <td>0.041290</td>\n",
       "    </tr>\n",
       "    <tr>\n",
       "      <th>15</th>\n",
       "      <td>10 to 11 years</td>\n",
       "      <td>0.041290</td>\n",
       "    </tr>\n",
       "    <tr>\n",
       "      <th>7</th>\n",
       "      <td>12 to 13 years</td>\n",
       "      <td>0.028387</td>\n",
       "    </tr>\n",
       "    <tr>\n",
       "      <th>14</th>\n",
       "      <td>16 to 17 years</td>\n",
       "      <td>0.025806</td>\n",
       "    </tr>\n",
       "    <tr>\n",
       "      <th>17</th>\n",
       "      <td>13 to 14 years</td>\n",
       "      <td>0.020645</td>\n",
       "    </tr>\n",
       "    <tr>\n",
       "      <th>20</th>\n",
       "      <td>Less than a year</td>\n",
       "      <td>0.020645</td>\n",
       "    </tr>\n",
       "    <tr>\n",
       "      <th>19</th>\n",
       "      <td>17 to 18 years</td>\n",
       "      <td>0.019355</td>\n",
       "    </tr>\n",
       "    <tr>\n",
       "      <th>10</th>\n",
       "      <td>19 to 20 years</td>\n",
       "      <td>0.019355</td>\n",
       "    </tr>\n",
       "    <tr>\n",
       "      <th>18</th>\n",
       "      <td>18 to 19 years</td>\n",
       "      <td>0.009032</td>\n",
       "    </tr>\n",
       "  </tbody>\n",
       "</table>\n",
       "</div>"
      ],
      "text/plain": [
       "        YearsProgram    Brazil\n",
       "12  20 or more years  0.109677\n",
       "6      9 to 10 years  0.081290\n",
       "0       5 to 6 years  0.080000\n",
       "8       6 to 7 years  0.070968\n",
       "2       4 to 5 years  0.070968\n",
       "16      3 to 4 years  0.067097\n",
       "1       7 to 8 years  0.061935\n",
       "13      2 to 3 years  0.051613\n",
       "4     11 to 12 years  0.049032\n",
       "5     14 to 15 years  0.045161\n",
       "3       8 to 9 years  0.043871\n",
       "11      1 to 2 years  0.042581\n",
       "9     15 to 16 years  0.041290\n",
       "15    10 to 11 years  0.041290\n",
       "7     12 to 13 years  0.028387\n",
       "14    16 to 17 years  0.025806\n",
       "17    13 to 14 years  0.020645\n",
       "20  Less than a year  0.020645\n",
       "19    17 to 18 years  0.019355\n",
       "10    19 to 20 years  0.019355\n",
       "18    18 to 19 years  0.009032"
      ]
     },
     "execution_count": 23,
     "metadata": {},
     "output_type": "execute_result"
    }
   ],
   "source": [
    "#Proportion of Brazilian sample about YearsProgram\n",
    "bra_years_prog = cl_df(df,'YearsProgram','Brazil')\n",
    "bra_years_prog['Brazil'] = bra_years_prog['Brazil'] / bra_years_prog['Brazil'].sum()\n",
    "bra_years_prog.sort_values(by='Brazil', ascending=False, inplace=True)\n",
    "bra_years_prog"
   ]
  },
  {
   "cell_type": "code",
   "execution_count": 24,
   "id": "016fc6dc",
   "metadata": {
    "scrolled": true
   },
   "outputs": [
    {
     "data": {
      "text/html": [
       "<div>\n",
       "<style scoped>\n",
       "    .dataframe tbody tr th:only-of-type {\n",
       "        vertical-align: middle;\n",
       "    }\n",
       "\n",
       "    .dataframe tbody tr th {\n",
       "        vertical-align: top;\n",
       "    }\n",
       "\n",
       "    .dataframe thead th {\n",
       "        text-align: right;\n",
       "    }\n",
       "</style>\n",
       "<table border=\"1\" class=\"dataframe\">\n",
       "  <thead>\n",
       "    <tr style=\"text-align: right;\">\n",
       "      <th></th>\n",
       "      <th>YearsProgram</th>\n",
       "      <th>United States</th>\n",
       "    </tr>\n",
       "  </thead>\n",
       "  <tbody>\n",
       "    <tr>\n",
       "      <th>5</th>\n",
       "      <td>20 or more years</td>\n",
       "      <td>0.256534</td>\n",
       "    </tr>\n",
       "    <tr>\n",
       "      <th>10</th>\n",
       "      <td>4 to 5 years</td>\n",
       "      <td>0.067707</td>\n",
       "    </tr>\n",
       "    <tr>\n",
       "      <th>7</th>\n",
       "      <td>3 to 4 years</td>\n",
       "      <td>0.065866</td>\n",
       "    </tr>\n",
       "    <tr>\n",
       "      <th>6</th>\n",
       "      <td>5 to 6 years</td>\n",
       "      <td>0.061130</td>\n",
       "    </tr>\n",
       "    <tr>\n",
       "      <th>2</th>\n",
       "      <td>9 to 10 years</td>\n",
       "      <td>0.054113</td>\n",
       "    </tr>\n",
       "    <tr>\n",
       "      <th>0</th>\n",
       "      <td>2 to 3 years</td>\n",
       "      <td>0.050956</td>\n",
       "    </tr>\n",
       "    <tr>\n",
       "      <th>18</th>\n",
       "      <td>6 to 7 years</td>\n",
       "      <td>0.046045</td>\n",
       "    </tr>\n",
       "    <tr>\n",
       "      <th>1</th>\n",
       "      <td>14 to 15 years</td>\n",
       "      <td>0.040519</td>\n",
       "    </tr>\n",
       "    <tr>\n",
       "      <th>11</th>\n",
       "      <td>1 to 2 years</td>\n",
       "      <td>0.040344</td>\n",
       "    </tr>\n",
       "    <tr>\n",
       "      <th>13</th>\n",
       "      <td>10 to 11 years</td>\n",
       "      <td>0.037625</td>\n",
       "    </tr>\n",
       "    <tr>\n",
       "      <th>15</th>\n",
       "      <td>7 to 8 years</td>\n",
       "      <td>0.037625</td>\n",
       "    </tr>\n",
       "    <tr>\n",
       "      <th>8</th>\n",
       "      <td>15 to 16 years</td>\n",
       "      <td>0.033766</td>\n",
       "    </tr>\n",
       "    <tr>\n",
       "      <th>16</th>\n",
       "      <td>8 to 9 years</td>\n",
       "      <td>0.033678</td>\n",
       "    </tr>\n",
       "    <tr>\n",
       "      <th>4</th>\n",
       "      <td>11 to 12 years</td>\n",
       "      <td>0.025434</td>\n",
       "    </tr>\n",
       "    <tr>\n",
       "      <th>17</th>\n",
       "      <td>19 to 20 years</td>\n",
       "      <td>0.025171</td>\n",
       "    </tr>\n",
       "    <tr>\n",
       "      <th>3</th>\n",
       "      <td>12 to 13 years</td>\n",
       "      <td>0.024119</td>\n",
       "    </tr>\n",
       "    <tr>\n",
       "      <th>19</th>\n",
       "      <td>16 to 17 years</td>\n",
       "      <td>0.023768</td>\n",
       "    </tr>\n",
       "    <tr>\n",
       "      <th>9</th>\n",
       "      <td>17 to 18 years</td>\n",
       "      <td>0.021224</td>\n",
       "    </tr>\n",
       "    <tr>\n",
       "      <th>20</th>\n",
       "      <td>Less than a year</td>\n",
       "      <td>0.019996</td>\n",
       "    </tr>\n",
       "    <tr>\n",
       "      <th>14</th>\n",
       "      <td>13 to 14 years</td>\n",
       "      <td>0.018242</td>\n",
       "    </tr>\n",
       "    <tr>\n",
       "      <th>12</th>\n",
       "      <td>18 to 19 years</td>\n",
       "      <td>0.016138</td>\n",
       "    </tr>\n",
       "  </tbody>\n",
       "</table>\n",
       "</div>"
      ],
      "text/plain": [
       "        YearsProgram  United States\n",
       "5   20 or more years       0.256534\n",
       "10      4 to 5 years       0.067707\n",
       "7       3 to 4 years       0.065866\n",
       "6       5 to 6 years       0.061130\n",
       "2      9 to 10 years       0.054113\n",
       "0       2 to 3 years       0.050956\n",
       "18      6 to 7 years       0.046045\n",
       "1     14 to 15 years       0.040519\n",
       "11      1 to 2 years       0.040344\n",
       "13    10 to 11 years       0.037625\n",
       "15      7 to 8 years       0.037625\n",
       "8     15 to 16 years       0.033766\n",
       "16      8 to 9 years       0.033678\n",
       "4     11 to 12 years       0.025434\n",
       "17    19 to 20 years       0.025171\n",
       "3     12 to 13 years       0.024119\n",
       "19    16 to 17 years       0.023768\n",
       "9     17 to 18 years       0.021224\n",
       "20  Less than a year       0.019996\n",
       "14    13 to 14 years       0.018242\n",
       "12    18 to 19 years       0.016138"
      ]
     },
     "execution_count": 24,
     "metadata": {},
     "output_type": "execute_result"
    }
   ],
   "source": [
    "#Proportion of US sample about YearsProgram\n",
    "us_years_prog = cl_df(df,'YearsProgram','United States')\n",
    "us_years_prog['United States'] = us_years_prog['United States'] / us_years_prog['United States'].sum()\n",
    "us_years_prog.sort_values(by='United States', ascending=False, inplace=True)\n",
    "us_years_prog"
   ]
  },
  {
   "cell_type": "code",
   "execution_count": 25,
   "id": "ab742815",
   "metadata": {
    "scrolled": false
   },
   "outputs": [
    {
     "data": {
      "text/html": [
       "<div>\n",
       "<style scoped>\n",
       "    .dataframe tbody tr th:only-of-type {\n",
       "        vertical-align: middle;\n",
       "    }\n",
       "\n",
       "    .dataframe tbody tr th {\n",
       "        vertical-align: top;\n",
       "    }\n",
       "\n",
       "    .dataframe thead th {\n",
       "        text-align: right;\n",
       "    }\n",
       "</style>\n",
       "<table border=\"1\" class=\"dataframe\">\n",
       "  <thead>\n",
       "    <tr style=\"text-align: right;\">\n",
       "      <th></th>\n",
       "      <th>Brazil</th>\n",
       "      <th>United States</th>\n",
       "    </tr>\n",
       "    <tr>\n",
       "      <th>YearsProgram</th>\n",
       "      <th></th>\n",
       "      <th></th>\n",
       "    </tr>\n",
       "  </thead>\n",
       "  <tbody>\n",
       "    <tr>\n",
       "      <th>20 or more years</th>\n",
       "      <td>0.109677</td>\n",
       "      <td>0.256534</td>\n",
       "    </tr>\n",
       "    <tr>\n",
       "      <th>9 to 10 years</th>\n",
       "      <td>0.081290</td>\n",
       "      <td>0.054113</td>\n",
       "    </tr>\n",
       "    <tr>\n",
       "      <th>5 to 6 years</th>\n",
       "      <td>0.080000</td>\n",
       "      <td>0.061130</td>\n",
       "    </tr>\n",
       "    <tr>\n",
       "      <th>6 to 7 years</th>\n",
       "      <td>0.070968</td>\n",
       "      <td>0.046045</td>\n",
       "    </tr>\n",
       "    <tr>\n",
       "      <th>4 to 5 years</th>\n",
       "      <td>0.070968</td>\n",
       "      <td>0.067707</td>\n",
       "    </tr>\n",
       "    <tr>\n",
       "      <th>3 to 4 years</th>\n",
       "      <td>0.067097</td>\n",
       "      <td>0.065866</td>\n",
       "    </tr>\n",
       "    <tr>\n",
       "      <th>7 to 8 years</th>\n",
       "      <td>0.061935</td>\n",
       "      <td>0.037625</td>\n",
       "    </tr>\n",
       "    <tr>\n",
       "      <th>2 to 3 years</th>\n",
       "      <td>0.051613</td>\n",
       "      <td>0.050956</td>\n",
       "    </tr>\n",
       "    <tr>\n",
       "      <th>11 to 12 years</th>\n",
       "      <td>0.049032</td>\n",
       "      <td>0.025434</td>\n",
       "    </tr>\n",
       "    <tr>\n",
       "      <th>14 to 15 years</th>\n",
       "      <td>0.045161</td>\n",
       "      <td>0.040519</td>\n",
       "    </tr>\n",
       "    <tr>\n",
       "      <th>8 to 9 years</th>\n",
       "      <td>0.043871</td>\n",
       "      <td>0.033678</td>\n",
       "    </tr>\n",
       "    <tr>\n",
       "      <th>1 to 2 years</th>\n",
       "      <td>0.042581</td>\n",
       "      <td>0.040344</td>\n",
       "    </tr>\n",
       "    <tr>\n",
       "      <th>15 to 16 years</th>\n",
       "      <td>0.041290</td>\n",
       "      <td>0.033766</td>\n",
       "    </tr>\n",
       "    <tr>\n",
       "      <th>10 to 11 years</th>\n",
       "      <td>0.041290</td>\n",
       "      <td>0.037625</td>\n",
       "    </tr>\n",
       "    <tr>\n",
       "      <th>12 to 13 years</th>\n",
       "      <td>0.028387</td>\n",
       "      <td>0.024119</td>\n",
       "    </tr>\n",
       "    <tr>\n",
       "      <th>16 to 17 years</th>\n",
       "      <td>0.025806</td>\n",
       "      <td>0.023768</td>\n",
       "    </tr>\n",
       "    <tr>\n",
       "      <th>13 to 14 years</th>\n",
       "      <td>0.020645</td>\n",
       "      <td>0.018242</td>\n",
       "    </tr>\n",
       "    <tr>\n",
       "      <th>Less than a year</th>\n",
       "      <td>0.020645</td>\n",
       "      <td>0.019996</td>\n",
       "    </tr>\n",
       "    <tr>\n",
       "      <th>17 to 18 years</th>\n",
       "      <td>0.019355</td>\n",
       "      <td>0.021224</td>\n",
       "    </tr>\n",
       "    <tr>\n",
       "      <th>19 to 20 years</th>\n",
       "      <td>0.019355</td>\n",
       "      <td>0.025171</td>\n",
       "    </tr>\n",
       "    <tr>\n",
       "      <th>18 to 19 years</th>\n",
       "      <td>0.009032</td>\n",
       "      <td>0.016138</td>\n",
       "    </tr>\n",
       "  </tbody>\n",
       "</table>\n",
       "</div>"
      ],
      "text/plain": [
       "                    Brazil  United States\n",
       "YearsProgram                             \n",
       "20 or more years  0.109677       0.256534\n",
       "9 to 10 years     0.081290       0.054113\n",
       "5 to 6 years      0.080000       0.061130\n",
       "6 to 7 years      0.070968       0.046045\n",
       "4 to 5 years      0.070968       0.067707\n",
       "3 to 4 years      0.067097       0.065866\n",
       "7 to 8 years      0.061935       0.037625\n",
       "2 to 3 years      0.051613       0.050956\n",
       "11 to 12 years    0.049032       0.025434\n",
       "14 to 15 years    0.045161       0.040519\n",
       "8 to 9 years      0.043871       0.033678\n",
       "1 to 2 years      0.042581       0.040344\n",
       "15 to 16 years    0.041290       0.033766\n",
       "10 to 11 years    0.041290       0.037625\n",
       "12 to 13 years    0.028387       0.024119\n",
       "16 to 17 years    0.025806       0.023768\n",
       "13 to 14 years    0.020645       0.018242\n",
       "Less than a year  0.020645       0.019996\n",
       "17 to 18 years    0.019355       0.021224\n",
       "19 to 20 years    0.019355       0.025171\n",
       "18 to 19 years    0.009032       0.016138"
      ]
     },
     "execution_count": 25,
     "metadata": {},
     "output_type": "execute_result"
    }
   ],
   "source": [
    "#Compiled data\n",
    "years_prog = pd.merge(bra_years_prog, us_years_prog, on='YearsProgram', how='inner').set_index('YearsProgram')\n",
    "years_prog"
   ]
  },
  {
   "cell_type": "code",
   "execution_count": 26,
   "id": "3d12f93c",
   "metadata": {},
   "outputs": [
    {
     "data": {
      "text/plain": [
       "Index(['20 or more years', '9 to 10 years', '5 to 6 years', '6 to 7 years',\n",
       "       '4 to 5 years', '3 to 4 years', '7 to 8 years', '2 to 3 years',\n",
       "       '11 to 12 years', '14 to 15 years', '8 to 9 years', '1 to 2 years',\n",
       "       '15 to 16 years', '10 to 11 years', '12 to 13 years', '16 to 17 years',\n",
       "       '13 to 14 years', 'Less than a year', '17 to 18 years',\n",
       "       '19 to 20 years', '18 to 19 years'],\n",
       "      dtype='object', name='YearsProgram')"
      ]
     },
     "execution_count": 26,
     "metadata": {},
     "output_type": "execute_result"
    }
   ],
   "source": [
    "years_prog.index"
   ]
  },
  {
   "cell_type": "markdown",
   "id": "da1c1ab0",
   "metadata": {},
   "source": [
    "year_dict = {'20 or more years': 20,'9 to 10 years': 9,'5 to 6 years':5,'6 to 7 years':6,'4 to 5 years':4, '3 to 4 years':3,'7 to 8 years':7,'2 to 3 years':2,'11 to 12 years':11,'14 to 15 years':14,'8 to 9 years':8, '1 to 2 years':1,'15 to 16 years':15,'10 to 11 years':10,'12 to 13 years':12,'16 to 17 years':16,'13 to 14 years':13, 'Less than a year':0,'17 to 18 years':17,'18 to 19 years':18,'19 to 20 years':19} "
   ]
  },
  {
   "cell_type": "markdown",
   "id": "6d0e241c",
   "metadata": {},
   "source": [
    "def fill_years(df, years_dict):\n",
    "\n",
    "    df.reset_index()\n",
    "    for i in range(0, len(df)):\n",
    "        df['ID'][i] = years_dict[df['YearsProgram'][i]]\n",
    "\n",
    "    return df"
   ]
  },
  {
   "cell_type": "markdown",
   "id": "15a735e5",
   "metadata": {},
   "source": [
    "fill_years(us_years_prog, year_dict)"
   ]
  },
  {
   "cell_type": "code",
   "execution_count": 27,
   "id": "7de07588",
   "metadata": {
    "scrolled": false
   },
   "outputs": [
    {
     "data": {
      "text/plain": [
       "<AxesSubplot:ylabel='YearsProgram'>"
      ]
     },
     "execution_count": 27,
     "metadata": {},
     "output_type": "execute_result"
    },
    {
     "data": {
      "image/png": "[encoded data removed]",
      "text/plain": [
       "<Figure size 1152x720 with 1 Axes>"
      ]
     },
     "metadata": {
      "needs_background": "light"
     },
     "output_type": "display_data"
    }
   ],
   "source": [
    "#Plot with the results above\n",
    "years_prog.plot(kind='barh', figsize=(16,10))"
   ]
  },
  {
   "cell_type": "markdown",
   "id": "68bf6e31",
   "metadata": {},
   "source": [
    "The main difference appears when we talk about people with more than 20 years of programming. The US has more than double than Brazil. The other levels has a little vantage for Brazil. "
   ]
  },
  {
   "cell_type": "markdown",
   "id": "179d2bf9",
   "metadata": {},
   "source": [
    "def fill_years(df, years_dict):\n",
    "    \n",
    "    df.reset_index()\n",
    "    for i in range(0, len(df)):\n",
    "        df['YearsProgram'][i] = years_dict[df['YearsProgram'][i]]\n",
    "\n",
    "    return df\n",
    "  "
   ]
  },
  {
   "cell_type": "markdown",
   "id": "5d62c8e2",
   "metadata": {},
   "source": [
    "Which developer type is more representative in each country?"
   ]
  },
  {
   "cell_type": "code",
   "execution_count": 28,
   "id": "f0d468e4",
   "metadata": {
    "scrolled": false
   },
   "outputs": [
    {
     "data": {
      "text/html": [
       "<div>\n",
       "<style scoped>\n",
       "    .dataframe tbody tr th:only-of-type {\n",
       "        vertical-align: middle;\n",
       "    }\n",
       "\n",
       "    .dataframe tbody tr th {\n",
       "        vertical-align: top;\n",
       "    }\n",
       "\n",
       "    .dataframe thead th {\n",
       "        text-align: right;\n",
       "    }\n",
       "</style>\n",
       "<table border=\"1\" class=\"dataframe\">\n",
       "  <thead>\n",
       "    <tr style=\"text-align: right;\">\n",
       "      <th></th>\n",
       "      <th>DeveloperType</th>\n",
       "      <th>Brazil</th>\n",
       "    </tr>\n",
       "  </thead>\n",
       "  <tbody>\n",
       "    <tr>\n",
       "      <th>0</th>\n",
       "      <td>Web developer</td>\n",
       "      <td>0.333102</td>\n",
       "    </tr>\n",
       "    <tr>\n",
       "      <th>3</th>\n",
       "      <td>Desktop applications developer</td>\n",
       "      <td>0.143255</td>\n",
       "    </tr>\n",
       "    <tr>\n",
       "      <th>1</th>\n",
       "      <td>Mobile developer</td>\n",
       "      <td>0.134910</td>\n",
       "    </tr>\n",
       "    <tr>\n",
       "      <th>6</th>\n",
       "      <td>Database administrator</td>\n",
       "      <td>0.066064</td>\n",
       "    </tr>\n",
       "    <tr>\n",
       "      <th>8</th>\n",
       "      <td>Systems administrator</td>\n",
       "      <td>0.059110</td>\n",
       "    </tr>\n",
       "    <tr>\n",
       "      <th>9</th>\n",
       "      <td>Embedded applications/devices developer</td>\n",
       "      <td>0.051460</td>\n",
       "    </tr>\n",
       "    <tr>\n",
       "      <th>4</th>\n",
       "      <td>DevOps specialist</td>\n",
       "      <td>0.046592</td>\n",
       "    </tr>\n",
       "    <tr>\n",
       "      <th>12</th>\n",
       "      <td>Data scientist</td>\n",
       "      <td>0.041725</td>\n",
       "    </tr>\n",
       "    <tr>\n",
       "      <th>5</th>\n",
       "      <td>Developer with a statistics or mathematics bac...</td>\n",
       "      <td>0.038248</td>\n",
       "    </tr>\n",
       "    <tr>\n",
       "      <th>13</th>\n",
       "      <td>Graphics programming</td>\n",
       "      <td>0.023644</td>\n",
       "    </tr>\n",
       "    <tr>\n",
       "      <th>11</th>\n",
       "      <td>Other</td>\n",
       "      <td>0.020862</td>\n",
       "    </tr>\n",
       "    <tr>\n",
       "      <th>10</th>\n",
       "      <td>Machine learning specialist</td>\n",
       "      <td>0.015994</td>\n",
       "    </tr>\n",
       "    <tr>\n",
       "      <th>7</th>\n",
       "      <td>Graphic designer</td>\n",
       "      <td>0.013908</td>\n",
       "    </tr>\n",
       "    <tr>\n",
       "      <th>2</th>\n",
       "      <td>Quality assurance engineer</td>\n",
       "      <td>0.011127</td>\n",
       "    </tr>\n",
       "  </tbody>\n",
       "</table>\n",
       "</div>"
      ],
      "text/plain": [
       "                                        DeveloperType    Brazil\n",
       "0                                       Web developer  0.333102\n",
       "3                      Desktop applications developer  0.143255\n",
       "1                                    Mobile developer  0.134910\n",
       "6                              Database administrator  0.066064\n",
       "8                               Systems administrator  0.059110\n",
       "9             Embedded applications/devices developer  0.051460\n",
       "4                                   DevOps specialist  0.046592\n",
       "12                                     Data scientist  0.041725\n",
       "5   Developer with a statistics or mathematics bac...  0.038248\n",
       "13                               Graphics programming  0.023644\n",
       "11                                              Other  0.020862\n",
       "10                        Machine learning specialist  0.015994\n",
       "7                                    Graphic designer  0.013908\n",
       "2                          Quality assurance engineer  0.011127"
      ]
     },
     "execution_count": 28,
     "metadata": {},
     "output_type": "execute_result"
    }
   ],
   "source": [
    "#Developer Type\n",
    "bra_dev_type = cl_df(df, 'DeveloperType', 'Brazil')\n",
    "bra_dev_type['Brazil'] = bra_dev_type['Brazil'] / bra_dev_type['Brazil'].sum()\n",
    "bra_dev_type.sort_values(by='Brazil', ascending=False, inplace=True)\n",
    "bra_dev_type"
   ]
  },
  {
   "cell_type": "code",
   "execution_count": 29,
   "id": "1743b27f",
   "metadata": {
    "scrolled": true
   },
   "outputs": [
    {
     "data": {
      "text/html": [
       "<div>\n",
       "<style scoped>\n",
       "    .dataframe tbody tr th:only-of-type {\n",
       "        vertical-align: middle;\n",
       "    }\n",
       "\n",
       "    .dataframe tbody tr th {\n",
       "        vertical-align: top;\n",
       "    }\n",
       "\n",
       "    .dataframe thead th {\n",
       "        text-align: right;\n",
       "    }\n",
       "</style>\n",
       "<table border=\"1\" class=\"dataframe\">\n",
       "  <thead>\n",
       "    <tr style=\"text-align: right;\">\n",
       "      <th></th>\n",
       "      <th>DeveloperType</th>\n",
       "      <th>United States</th>\n",
       "    </tr>\n",
       "  </thead>\n",
       "  <tbody>\n",
       "    <tr>\n",
       "      <th>1</th>\n",
       "      <td>Web developer</td>\n",
       "      <td>0.341377</td>\n",
       "    </tr>\n",
       "    <tr>\n",
       "      <th>0</th>\n",
       "      <td>Desktop applications developer</td>\n",
       "      <td>0.131246</td>\n",
       "    </tr>\n",
       "    <tr>\n",
       "      <th>7</th>\n",
       "      <td>Mobile developer</td>\n",
       "      <td>0.087592</td>\n",
       "    </tr>\n",
       "    <tr>\n",
       "      <th>11</th>\n",
       "      <td>Database administrator</td>\n",
       "      <td>0.067615</td>\n",
       "    </tr>\n",
       "    <tr>\n",
       "      <th>3</th>\n",
       "      <td>DevOps specialist</td>\n",
       "      <td>0.059476</td>\n",
       "    </tr>\n",
       "    <tr>\n",
       "      <th>6</th>\n",
       "      <td>Developer with a statistics or mathematics bac...</td>\n",
       "      <td>0.056289</td>\n",
       "    </tr>\n",
       "    <tr>\n",
       "      <th>8</th>\n",
       "      <td>Systems administrator</td>\n",
       "      <td>0.054297</td>\n",
       "    </tr>\n",
       "    <tr>\n",
       "      <th>5</th>\n",
       "      <td>Other</td>\n",
       "      <td>0.048947</td>\n",
       "    </tr>\n",
       "    <tr>\n",
       "      <th>2</th>\n",
       "      <td>Embedded applications/devices developer</td>\n",
       "      <td>0.041320</td>\n",
       "    </tr>\n",
       "    <tr>\n",
       "      <th>9</th>\n",
       "      <td>Data scientist</td>\n",
       "      <td>0.040467</td>\n",
       "    </tr>\n",
       "    <tr>\n",
       "      <th>4</th>\n",
       "      <td>Quality assurance engineer</td>\n",
       "      <td>0.019294</td>\n",
       "    </tr>\n",
       "    <tr>\n",
       "      <th>12</th>\n",
       "      <td>Graphics programming</td>\n",
       "      <td>0.018156</td>\n",
       "    </tr>\n",
       "    <tr>\n",
       "      <th>13</th>\n",
       "      <td>Machine learning specialist</td>\n",
       "      <td>0.017701</td>\n",
       "    </tr>\n",
       "    <tr>\n",
       "      <th>10</th>\n",
       "      <td>Graphic designer</td>\n",
       "      <td>0.016221</td>\n",
       "    </tr>\n",
       "  </tbody>\n",
       "</table>\n",
       "</div>"
      ],
      "text/plain": [
       "                                        DeveloperType  United States\n",
       "1                                       Web developer       0.341377\n",
       "0                      Desktop applications developer       0.131246\n",
       "7                                    Mobile developer       0.087592\n",
       "11                             Database administrator       0.067615\n",
       "3                                   DevOps specialist       0.059476\n",
       "6   Developer with a statistics or mathematics bac...       0.056289\n",
       "8                               Systems administrator       0.054297\n",
       "5                                               Other       0.048947\n",
       "2             Embedded applications/devices developer       0.041320\n",
       "9                                      Data scientist       0.040467\n",
       "4                          Quality assurance engineer       0.019294\n",
       "12                               Graphics programming       0.018156\n",
       "13                        Machine learning specialist       0.017701\n",
       "10                                   Graphic designer       0.016221"
      ]
     },
     "execution_count": 29,
     "metadata": {},
     "output_type": "execute_result"
    }
   ],
   "source": [
    "us_dev_type = cl_df(df, 'DeveloperType', 'United States')\n",
    "us_dev_type['United States'] = us_dev_type['United States'] / us_dev_type['United States'].sum()\n",
    "us_dev_type.sort_values(by='United States', ascending=False, inplace=True)\n",
    "us_dev_type"
   ]
  },
  {
   "cell_type": "code",
   "execution_count": 30,
   "id": "6ca41bc5",
   "metadata": {
    "scrolled": true
   },
   "outputs": [
    {
     "data": {
      "text/html": [
       "<div>\n",
       "<style scoped>\n",
       "    .dataframe tbody tr th:only-of-type {\n",
       "        vertical-align: middle;\n",
       "    }\n",
       "\n",
       "    .dataframe tbody tr th {\n",
       "        vertical-align: top;\n",
       "    }\n",
       "\n",
       "    .dataframe thead th {\n",
       "        text-align: right;\n",
       "    }\n",
       "</style>\n",
       "<table border=\"1\" class=\"dataframe\">\n",
       "  <thead>\n",
       "    <tr style=\"text-align: right;\">\n",
       "      <th></th>\n",
       "      <th>Brazil</th>\n",
       "      <th>United States</th>\n",
       "    </tr>\n",
       "    <tr>\n",
       "      <th>DeveloperType</th>\n",
       "      <th></th>\n",
       "      <th></th>\n",
       "    </tr>\n",
       "  </thead>\n",
       "  <tbody>\n",
       "    <tr>\n",
       "      <th>Web developer</th>\n",
       "      <td>0.333102</td>\n",
       "      <td>0.341377</td>\n",
       "    </tr>\n",
       "    <tr>\n",
       "      <th>Desktop applications developer</th>\n",
       "      <td>0.143255</td>\n",
       "      <td>0.131246</td>\n",
       "    </tr>\n",
       "    <tr>\n",
       "      <th>Mobile developer</th>\n",
       "      <td>0.134910</td>\n",
       "      <td>0.087592</td>\n",
       "    </tr>\n",
       "    <tr>\n",
       "      <th>Database administrator</th>\n",
       "      <td>0.066064</td>\n",
       "      <td>0.067615</td>\n",
       "    </tr>\n",
       "    <tr>\n",
       "      <th>Systems administrator</th>\n",
       "      <td>0.059110</td>\n",
       "      <td>0.054297</td>\n",
       "    </tr>\n",
       "    <tr>\n",
       "      <th>Embedded applications/devices developer</th>\n",
       "      <td>0.051460</td>\n",
       "      <td>0.041320</td>\n",
       "    </tr>\n",
       "    <tr>\n",
       "      <th>DevOps specialist</th>\n",
       "      <td>0.046592</td>\n",
       "      <td>0.059476</td>\n",
       "    </tr>\n",
       "    <tr>\n",
       "      <th>Data scientist</th>\n",
       "      <td>0.041725</td>\n",
       "      <td>0.040467</td>\n",
       "    </tr>\n",
       "    <tr>\n",
       "      <th>Developer with a statistics or mathematics background</th>\n",
       "      <td>0.038248</td>\n",
       "      <td>0.056289</td>\n",
       "    </tr>\n",
       "    <tr>\n",
       "      <th>Graphics programming</th>\n",
       "      <td>0.023644</td>\n",
       "      <td>0.018156</td>\n",
       "    </tr>\n",
       "    <tr>\n",
       "      <th>Other</th>\n",
       "      <td>0.020862</td>\n",
       "      <td>0.048947</td>\n",
       "    </tr>\n",
       "    <tr>\n",
       "      <th>Machine learning specialist</th>\n",
       "      <td>0.015994</td>\n",
       "      <td>0.017701</td>\n",
       "    </tr>\n",
       "    <tr>\n",
       "      <th>Graphic designer</th>\n",
       "      <td>0.013908</td>\n",
       "      <td>0.016221</td>\n",
       "    </tr>\n",
       "    <tr>\n",
       "      <th>Quality assurance engineer</th>\n",
       "      <td>0.011127</td>\n",
       "      <td>0.019294</td>\n",
       "    </tr>\n",
       "  </tbody>\n",
       "</table>\n",
       "</div>"
      ],
      "text/plain": [
       "                                                      Brazil  United States\n",
       "DeveloperType                                                              \n",
       "Web developer                                       0.333102       0.341377\n",
       "Desktop applications developer                      0.143255       0.131246\n",
       "Mobile developer                                    0.134910       0.087592\n",
       "Database administrator                              0.066064       0.067615\n",
       "Systems administrator                               0.059110       0.054297\n",
       "Embedded applications/devices developer             0.051460       0.041320\n",
       "DevOps specialist                                   0.046592       0.059476\n",
       "Data scientist                                      0.041725       0.040467\n",
       "Developer with a statistics or mathematics back...  0.038248       0.056289\n",
       "Graphics programming                                0.023644       0.018156\n",
       "Other                                               0.020862       0.048947\n",
       "Machine learning specialist                         0.015994       0.017701\n",
       "Graphic designer                                    0.013908       0.016221\n",
       "Quality assurance engineer                          0.011127       0.019294"
      ]
     },
     "execution_count": 30,
     "metadata": {},
     "output_type": "execute_result"
    }
   ],
   "source": [
    "dev_type = pd.merge(bra_dev_type,us_dev_type, on='DeveloperType')\n",
    "dev_type.set_index('DeveloperType', inplace=True)\n",
    "dev_type"
   ]
  },
  {
   "cell_type": "code",
   "execution_count": 31,
   "id": "1e740376",
   "metadata": {},
   "outputs": [
    {
     "data": {
      "text/plain": [
       "<AxesSubplot:ylabel='DeveloperType'>"
      ]
     },
     "execution_count": 31,
     "metadata": {},
     "output_type": "execute_result"
    },
    {
     "data": {
      "image/png": "[encoded data removed]",
      "text/plain": [
       "<Figure size 1296x720 with 1 Axes>"
      ]
     },
     "metadata": {
      "needs_background": "light"
     },
     "output_type": "display_data"
    }
   ],
   "source": [
    "dev_type.plot(kind='barh', figsize=(18,10))"
   ]
  },
  {
   "cell_type": "markdown",
   "id": "d840ce02",
   "metadata": {},
   "source": [
    "The main tree Developer Types in both countries are Web developer, Desktop applications developer and Mobile developer. The Second and third positions in Brazil has almost the same level, while in United States the difference between these two positions is more evident.   "
   ]
  },
  {
   "cell_type": "markdown",
   "id": "282553dd",
   "metadata": {},
   "source": [
    "Is there huge differences about formal education among the countries?"
   ]
  },
  {
   "cell_type": "code",
   "execution_count": 32,
   "id": "01d0d062",
   "metadata": {},
   "outputs": [
    {
     "data": {
      "text/plain": [
       "Text(0.5, 1.0, 'Brazilian Formal Education')"
      ]
     },
     "execution_count": 32,
     "metadata": {},
     "output_type": "execute_result"
    },
    {
     "data": {
      "image/png": "[encoded data removed]",
      "text/plain": [
       "<Figure size 864x720 with 1 Axes>"
      ]
     },
     "metadata": {},
     "output_type": "display_data"
    }
   ],
   "source": [
    "bra_formal_edu = df.loc[df['Country'] == 'Brazil']['FormalEducation'].value_counts()\n",
    "bra_formal_edu = bra_formal_edu / bra_formal_edu.sum()\n",
    "label_bra = list(bra_formal_edu.index)\n",
    "plt.figure(figsize=(12,10))\n",
    "plt.pie(bra_formal_edu, labels=label_bra, autopct='%1.1f%%',)\n",
    "plt.title('Brazilian Formal Education')"
   ]
  },
  {
   "cell_type": "code",
   "execution_count": 33,
   "id": "853bffa5",
   "metadata": {},
   "outputs": [
    {
     "data": {
      "text/plain": [
       "Text(0.5, 1.0, 'American Formal Education')"
      ]
     },
     "execution_count": 33,
     "metadata": {},
     "output_type": "execute_result"
    },
    {
     "data": {
      "image/png": "[encoded data removed]",
      "text/plain": [
       "<Figure size 864x720 with 1 Axes>"
      ]
     },
     "metadata": {},
     "output_type": "display_data"
    }
   ],
   "source": [
    "us_formal_edu = df.loc[df['Country'] == 'United States']['FormalEducation'].value_counts()\n",
    "us_formal_edu = us_formal_edu / us_formal_edu.sum()\n",
    "label_us = list(us_formal_edu.index)\n",
    "plt.figure(figsize=(12,10))\n",
    "plt.pie(us_formal_edu, labels=label_us, autopct='%1.1f%%',)\n",
    "plt.title('American Formal Education')"
   ]
  },
  {
   "cell_type": "markdown",
   "id": "e2cc1565",
   "metadata": {},
   "source": [
    "Most developers in both countries has Bachelor's degree, however in United States it is almost 50%, while in Brazil it is near to 44%"
   ]
  },
  {
   "cell_type": "markdown",
   "id": "b97b5486",
   "metadata": {},
   "source": [
    "Which is the most popular course among the developers?"
   ]
  },
  {
   "cell_type": "code",
   "execution_count": 34,
   "id": "77807168",
   "metadata": {},
   "outputs": [],
   "source": [
    "#testes com Git"
   ]
  },
  {
   "cell_type": "code",
   "execution_count": null,
   "id": "6804de40",
   "metadata": {},
   "outputs": [],
   "source": []
  }
 ],
 "metadata": {
  "kernelspec": {
   "display_name": "Python 3 (ipykernel)",
   "language": "python",
   "name": "python3"
  },
  "language_info": {
   "codemirror_mode": {
    "name": "ipython",
    "version": 3
   },
   "file_extension": ".py",
   "mimetype": "text/x-python",
   "name": "python",
   "nbconvert_exporter": "python",
   "pygments_lexer": "ipython3",
   "version": "3.9.12"
  }
 },
 "nbformat": 4,
 "nbformat_minor": 5
}
