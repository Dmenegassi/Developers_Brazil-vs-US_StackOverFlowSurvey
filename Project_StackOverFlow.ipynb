{
 "cells": [
  {
   "cell_type": "markdown",
   "id": "c919ec40",
   "metadata": {},
   "source": [
    "Importing Libraries"
   ]
  },
  {
   "cell_type": "code",
   "execution_count": 1,
   "id": "c7b76873",
   "metadata": {},
   "outputs": [],
   "source": [
    "import pandas as pd\n",
    "import numpy as np\n",
    "import matplotlib.pyplot as plt\n",
    "%matplotlib inline\n",
    "import seaborn as sns \n",
    "from sklearn.model_selection import train_test_split\n",
    "from sklearn.linear_model import LinearRegression\n",
    "from sklearn.metrics import r2_score\n"
   ]
  },
  {
   "cell_type": "markdown",
   "id": "d2500d7b",
   "metadata": {},
   "source": [
    "The main goal of this project is implement a CRIPS-DM Data Science Process over the StackOverflow Data. The porpose is identify some Business Questions and dive deep into the Data."
   ]
  },
  {
   "cell_type": "markdown",
   "id": "a57b21ac",
   "metadata": {},
   "source": [
    "Gathering Data"
   ]
  },
  {
   "cell_type": "code",
   "execution_count": 2,
   "id": "e1c8813e",
   "metadata": {
    "scrolled": false
   },
   "outputs": [
    {
     "name": "stdout",
     "output_type": "stream",
     "text": [
      "The interview was composed by 154 questions and counted with 51392 interviwers\n"
     ]
    }
   ],
   "source": [
    "#Take a look at the Data dimention\n",
    "df = pd.read_csv('./survey_results_public.csv')\n",
    "schema = pd.read_csv('./survey_results_schema.csv')\n",
    "print('The interview was composed by {} questions and counted with {} interviwers'.format(schema.shape[0], df.shape[0]))"
   ]
  },
  {
   "cell_type": "code",
   "execution_count": 3,
   "id": "7da09b0c",
   "metadata": {
    "scrolled": true
   },
   "outputs": [
    {
     "name": "stdout",
     "output_type": "stream",
     "text": [
      "The proportion of columns with at leats 1 missing values in the datafrme is 95.45%\n"
     ]
    }
   ],
   "source": [
    "#Number of columns with missing values\n",
    "num_mis_val = np.sum(np.sum(df.isnull())/df.shape[0] != 0)\n",
    "\n",
    "#Discovering the proportion of missing values\n",
    "prop_mis_val = round((num_mis_val / df.shape[1]) * 100, 2)\n",
    "print('The proportion of columns with at leats 1 missing values in the datafrme is {}%'.format(prop_mis_val))\n"
   ]
  },
  {
   "cell_type": "code",
   "execution_count": 4,
   "id": "d01cca08",
   "metadata": {},
   "outputs": [
    {
     "data": {
      "text/plain": [
       "Index(['YearsCodedJobPast', 'WebDeveloperType', 'MobileDeveloperType',\n",
       "       'NonDeveloperType', 'ExCoderReturn', 'ExCoderNotForMe',\n",
       "       'ExCoderBalance', 'ExCoder10Years', 'ExCoderBelonged', 'ExCoderSkills',\n",
       "       'ExCoderWillNotCode', 'ExCoderActive', 'HoursPerWeek',\n",
       "       'AssessJobIndustry', 'AssessJobRole', 'AssessJobExp', 'AssessJobDept',\n",
       "       'AssessJobTech', 'AssessJobProjects', 'AssessJobCompensation',\n",
       "       'AssessJobOffice', 'AssessJobCommute', 'AssessJobRemote',\n",
       "       'AssessJobLeaders', 'AssessJobProfDevel', 'AssessJobDiversity',\n",
       "       'AssessJobProduct', 'AssessJobFinances', 'JobProfile', 'ResumePrompted',\n",
       "       'LearnedHiring', 'Currency', 'Overpaid', 'EducationImportant',\n",
       "       'TimeAfterBootcamp', 'CousinEducation', 'HaveWorkedFramework',\n",
       "       'WantWorkFramework', 'WantWorkDatabase', 'MetricAssess',\n",
       "       'InfluenceWorkstation', 'InfluenceHardware', 'InfluenceServers',\n",
       "       'InfluenceTechStack', 'InfluenceDeptTech', 'InfluenceVizTools',\n",
       "       'InfluenceDatabase', 'InfluenceCloud', 'InfluenceConsultants',\n",
       "       'InfluenceRecruitment', 'InfluenceCommunication', 'Salary',\n",
       "       'ExpectedSalary'],\n",
       "      dtype='object')"
      ]
     },
     "execution_count": 4,
     "metadata": {},
     "output_type": "execute_result"
    }
   ],
   "source": [
    "#Columns with more than 75% of missing values \n",
    "df.columns[(df.isnull().mean() > .50)]"
   ]
  },
  {
   "cell_type": "code",
   "execution_count": 5,
   "id": "ca8d668c",
   "metadata": {
    "scrolled": false
   },
   "outputs": [
    {
     "data": {
      "text/html": [
       "<div>\n",
       "<style scoped>\n",
       "    .dataframe tbody tr th:only-of-type {\n",
       "        vertical-align: middle;\n",
       "    }\n",
       "\n",
       "    .dataframe tbody tr th {\n",
       "        vertical-align: top;\n",
       "    }\n",
       "\n",
       "    .dataframe thead th {\n",
       "        text-align: right;\n",
       "    }\n",
       "</style>\n",
       "<table border=\"1\" class=\"dataframe\">\n",
       "  <thead>\n",
       "    <tr style=\"text-align: right;\">\n",
       "      <th></th>\n",
       "      <th>Professional</th>\n",
       "      <th>ProgramHobby</th>\n",
       "      <th>Country</th>\n",
       "      <th>University</th>\n",
       "      <th>EmploymentStatus</th>\n",
       "      <th>FormalEducation</th>\n",
       "      <th>MajorUndergrad</th>\n",
       "      <th>HomeRemote</th>\n",
       "      <th>CompanySize</th>\n",
       "      <th>CompanyType</th>\n",
       "      <th>...</th>\n",
       "      <th>StackOverflowBetter</th>\n",
       "      <th>StackOverflowWhatDo</th>\n",
       "      <th>StackOverflowMakeMoney</th>\n",
       "      <th>Gender</th>\n",
       "      <th>HighestEducationParents</th>\n",
       "      <th>Race</th>\n",
       "      <th>SurveyLong</th>\n",
       "      <th>QuestionsInteresting</th>\n",
       "      <th>QuestionsConfusing</th>\n",
       "      <th>InterestedAnswers</th>\n",
       "    </tr>\n",
       "  </thead>\n",
       "  <tbody>\n",
       "    <tr>\n",
       "      <th>0</th>\n",
       "      <td>Student</td>\n",
       "      <td>Yes, both</td>\n",
       "      <td>United States</td>\n",
       "      <td>No</td>\n",
       "      <td>Not employed, and not looking for work</td>\n",
       "      <td>Secondary school</td>\n",
       "      <td>NaN</td>\n",
       "      <td>NaN</td>\n",
       "      <td>NaN</td>\n",
       "      <td>NaN</td>\n",
       "      <td>...</td>\n",
       "      <td>Strongly agree</td>\n",
       "      <td>Strongly agree</td>\n",
       "      <td>Strongly disagree</td>\n",
       "      <td>Male</td>\n",
       "      <td>High school</td>\n",
       "      <td>White or of European descent</td>\n",
       "      <td>Strongly disagree</td>\n",
       "      <td>Strongly agree</td>\n",
       "      <td>Disagree</td>\n",
       "      <td>Strongly agree</td>\n",
       "    </tr>\n",
       "    <tr>\n",
       "      <th>1</th>\n",
       "      <td>Student</td>\n",
       "      <td>Yes, both</td>\n",
       "      <td>United Kingdom</td>\n",
       "      <td>Yes, full-time</td>\n",
       "      <td>Employed part-time</td>\n",
       "      <td>Some college/university study without earning ...</td>\n",
       "      <td>Computer science or software engineering</td>\n",
       "      <td>More than half, but not all, the time</td>\n",
       "      <td>20 to 99 employees</td>\n",
       "      <td>Privately-held limited company, not in startup...</td>\n",
       "      <td>...</td>\n",
       "      <td>Strongly agree</td>\n",
       "      <td>Strongly agree</td>\n",
       "      <td>Strongly disagree</td>\n",
       "      <td>Male</td>\n",
       "      <td>A master's degree</td>\n",
       "      <td>White or of European descent</td>\n",
       "      <td>Somewhat agree</td>\n",
       "      <td>Somewhat agree</td>\n",
       "      <td>Disagree</td>\n",
       "      <td>Strongly agree</td>\n",
       "    </tr>\n",
       "    <tr>\n",
       "      <th>2</th>\n",
       "      <td>Professional developer</td>\n",
       "      <td>Yes, both</td>\n",
       "      <td>United Kingdom</td>\n",
       "      <td>No</td>\n",
       "      <td>Employed full-time</td>\n",
       "      <td>Bachelor's degree</td>\n",
       "      <td>Computer science or software engineering</td>\n",
       "      <td>Less than half the time, but at least one day ...</td>\n",
       "      <td>10,000 or more employees</td>\n",
       "      <td>Publicly-traded corporation</td>\n",
       "      <td>...</td>\n",
       "      <td>Agree</td>\n",
       "      <td>Agree</td>\n",
       "      <td>Disagree</td>\n",
       "      <td>Male</td>\n",
       "      <td>A professional degree</td>\n",
       "      <td>White or of European descent</td>\n",
       "      <td>Somewhat agree</td>\n",
       "      <td>Agree</td>\n",
       "      <td>Disagree</td>\n",
       "      <td>Agree</td>\n",
       "    </tr>\n",
       "    <tr>\n",
       "      <th>3</th>\n",
       "      <td>Professional non-developer who sometimes write...</td>\n",
       "      <td>Yes, both</td>\n",
       "      <td>United States</td>\n",
       "      <td>No</td>\n",
       "      <td>Employed full-time</td>\n",
       "      <td>Doctoral degree</td>\n",
       "      <td>A non-computer-focused engineering discipline</td>\n",
       "      <td>Less than half the time, but at least one day ...</td>\n",
       "      <td>10,000 or more employees</td>\n",
       "      <td>Non-profit/non-governmental organization or pr...</td>\n",
       "      <td>...</td>\n",
       "      <td>Agree</td>\n",
       "      <td>Strongly agree</td>\n",
       "      <td>Disagree</td>\n",
       "      <td>Male</td>\n",
       "      <td>A doctoral degree</td>\n",
       "      <td>White or of European descent</td>\n",
       "      <td>Agree</td>\n",
       "      <td>Agree</td>\n",
       "      <td>Somewhat agree</td>\n",
       "      <td>Strongly agree</td>\n",
       "    </tr>\n",
       "    <tr>\n",
       "      <th>4</th>\n",
       "      <td>Professional developer</td>\n",
       "      <td>Yes, I program as a hobby</td>\n",
       "      <td>Switzerland</td>\n",
       "      <td>No</td>\n",
       "      <td>Employed full-time</td>\n",
       "      <td>Master's degree</td>\n",
       "      <td>Computer science or software engineering</td>\n",
       "      <td>Never</td>\n",
       "      <td>10 to 19 employees</td>\n",
       "      <td>Privately-held limited company, not in startup...</td>\n",
       "      <td>...</td>\n",
       "      <td>NaN</td>\n",
       "      <td>NaN</td>\n",
       "      <td>NaN</td>\n",
       "      <td>NaN</td>\n",
       "      <td>NaN</td>\n",
       "      <td>NaN</td>\n",
       "      <td>NaN</td>\n",
       "      <td>NaN</td>\n",
       "      <td>NaN</td>\n",
       "      <td>NaN</td>\n",
       "    </tr>\n",
       "  </tbody>\n",
       "</table>\n",
       "<p>5 rows × 147 columns</p>\n",
       "</div>"
      ],
      "text/plain": [
       "                                        Professional  \\\n",
       "0                                            Student   \n",
       "1                                            Student   \n",
       "2                             Professional developer   \n",
       "3  Professional non-developer who sometimes write...   \n",
       "4                             Professional developer   \n",
       "\n",
       "                ProgramHobby         Country      University  \\\n",
       "0                  Yes, both   United States              No   \n",
       "1                  Yes, both  United Kingdom  Yes, full-time   \n",
       "2                  Yes, both  United Kingdom              No   \n",
       "3                  Yes, both   United States              No   \n",
       "4  Yes, I program as a hobby     Switzerland              No   \n",
       "\n",
       "                         EmploymentStatus  \\\n",
       "0  Not employed, and not looking for work   \n",
       "1                      Employed part-time   \n",
       "2                      Employed full-time   \n",
       "3                      Employed full-time   \n",
       "4                      Employed full-time   \n",
       "\n",
       "                                     FormalEducation  \\\n",
       "0                                   Secondary school   \n",
       "1  Some college/university study without earning ...   \n",
       "2                                  Bachelor's degree   \n",
       "3                                    Doctoral degree   \n",
       "4                                    Master's degree   \n",
       "\n",
       "                                  MajorUndergrad  \\\n",
       "0                                            NaN   \n",
       "1       Computer science or software engineering   \n",
       "2       Computer science or software engineering   \n",
       "3  A non-computer-focused engineering discipline   \n",
       "4       Computer science or software engineering   \n",
       "\n",
       "                                          HomeRemote  \\\n",
       "0                                                NaN   \n",
       "1              More than half, but not all, the time   \n",
       "2  Less than half the time, but at least one day ...   \n",
       "3  Less than half the time, but at least one day ...   \n",
       "4                                              Never   \n",
       "\n",
       "                CompanySize  \\\n",
       "0                       NaN   \n",
       "1        20 to 99 employees   \n",
       "2  10,000 or more employees   \n",
       "3  10,000 or more employees   \n",
       "4        10 to 19 employees   \n",
       "\n",
       "                                         CompanyType  ... StackOverflowBetter  \\\n",
       "0                                                NaN  ...      Strongly agree   \n",
       "1  Privately-held limited company, not in startup...  ...      Strongly agree   \n",
       "2                        Publicly-traded corporation  ...               Agree   \n",
       "3  Non-profit/non-governmental organization or pr...  ...               Agree   \n",
       "4  Privately-held limited company, not in startup...  ...                 NaN   \n",
       "\n",
       "  StackOverflowWhatDo StackOverflowMakeMoney Gender HighestEducationParents  \\\n",
       "0      Strongly agree      Strongly disagree   Male             High school   \n",
       "1      Strongly agree      Strongly disagree   Male       A master's degree   \n",
       "2               Agree               Disagree   Male   A professional degree   \n",
       "3      Strongly agree               Disagree   Male       A doctoral degree   \n",
       "4                 NaN                    NaN    NaN                     NaN   \n",
       "\n",
       "                           Race         SurveyLong QuestionsInteresting  \\\n",
       "0  White or of European descent  Strongly disagree       Strongly agree   \n",
       "1  White or of European descent     Somewhat agree       Somewhat agree   \n",
       "2  White or of European descent     Somewhat agree                Agree   \n",
       "3  White or of European descent              Agree                Agree   \n",
       "4                           NaN                NaN                  NaN   \n",
       "\n",
       "  QuestionsConfusing InterestedAnswers  \n",
       "0           Disagree    Strongly agree  \n",
       "1           Disagree    Strongly agree  \n",
       "2           Disagree             Agree  \n",
       "3     Somewhat agree    Strongly agree  \n",
       "4                NaN               NaN  \n",
       "\n",
       "[5 rows x 147 columns]"
      ]
     },
     "execution_count": 5,
     "metadata": {},
     "output_type": "execute_result"
    }
   ],
   "source": [
    "#The categorical values for anylisis\n",
    "df.select_dtypes(include=['object']).head()"
   ]
  },
  {
   "cell_type": "markdown",
   "id": "ffc795b6",
   "metadata": {},
   "source": [
    "Lets take a look and compare some aspects between a developed country and an emerging one. In this case we are going to analyse the US and Brasil about some aspects."
   ]
  },
  {
   "cell_type": "markdown",
   "id": "f951f109",
   "metadata": {},
   "source": [
    "Data Understanding"
   ]
  },
  {
   "cell_type": "code",
   "execution_count": 6,
   "id": "cd9a40ed",
   "metadata": {
    "scrolled": true
   },
   "outputs": [
    {
     "data": {
      "text/plain": [
       "0.0"
      ]
     },
     "execution_count": 6,
     "metadata": {},
     "output_type": "execute_result"
    }
   ],
   "source": [
    "#Counts of null values in EmploymentStatus Column\n",
    "df['EmploymentStatus'].isnull().sum() / df.shape[0]"
   ]
  },
  {
   "cell_type": "code",
   "execution_count": 7,
   "id": "5738e795",
   "metadata": {
    "scrolled": false
   },
   "outputs": [
    {
     "data": {
      "text/plain": [
       "Employed full-time                                      0.703378\n",
       "Independent contractor, freelancer, or self-employed    0.101825\n",
       "Employed part-time                                      0.061877\n",
       "Not employed, and not looking for work                  0.054308\n",
       "Not employed, but looking for work                      0.054211\n",
       "I prefer not to say                                     0.021132\n",
       "Retired                                                 0.003269\n",
       "Name: EmploymentStatus, dtype: float64"
      ]
     },
     "execution_count": 7,
     "metadata": {},
     "output_type": "execute_result"
    }
   ],
   "source": [
    "#The proportion of the EmploymentStatus can be seen below\n",
    "dev_type_prop = df['EmploymentStatus'].value_counts() / df.shape[0]\n",
    "dev_type_prop[:10]\n"
   ]
  },
  {
   "cell_type": "code",
   "execution_count": 8,
   "id": "13eabde9",
   "metadata": {
    "scrolled": true
   },
   "outputs": [
    {
     "data": {
      "text/plain": [
       "<AxesSubplot:>"
      ]
     },
     "execution_count": 8,
     "metadata": {},
     "output_type": "execute_result"
    },
    {
     "data": {
      "image/png": "[encoded data removed]",
      "text/plain": [
       "<Figure size 432x288 with 1 Axes>"
      ]
     },
     "metadata": {
      "needs_background": "light"
     },
     "output_type": "display_data"
    }
   ],
   "source": [
    "dev_type_prop.plot(kind='barh')"
   ]
  },
  {
   "cell_type": "code",
   "execution_count": 9,
   "id": "840e2802",
   "metadata": {},
   "outputs": [
    {
     "data": {
      "text/plain": [
       "['Not employed, and not looking for work',\n",
       " 'Employed part-time',\n",
       " 'Employed full-time',\n",
       " 'Independent contractor, freelancer, or self-employed',\n",
       " 'Not employed, but looking for work',\n",
       " 'I prefer not to say']"
      ]
     },
     "execution_count": 9,
     "metadata": {},
     "output_type": "execute_result"
    }
   ],
   "source": [
    "#Employment Levels for analysis\n",
    "emp_levels = list(df['EmploymentStatus'].unique())\n",
    "emp_levels.remove('Retired') #Remove Retired was necessary, because there are any retired in brazilian's answers\n",
    "emp_levels"
   ]
  },
  {
   "cell_type": "markdown",
   "id": "4180faad",
   "metadata": {},
   "source": [
    "How is the Employment Status of each country?"
   ]
  },
  {
   "cell_type": "code",
   "execution_count": 10,
   "id": "96525cb0",
   "metadata": {
    "scrolled": true
   },
   "outputs": [
    {
     "data": {
      "text/plain": [
       "Employed full-time                                      513\n",
       "Independent contractor, freelancer, or self-employed    111\n",
       "Employed part-time                                       63\n",
       "Not employed, but looking for work                       51\n",
       "Not employed, and not looking for work                   31\n",
       "I prefer not to say                                       8\n",
       "Name: EmploymentStatus, dtype: int64"
      ]
     },
     "execution_count": 10,
     "metadata": {},
     "output_type": "execute_result"
    }
   ],
   "source": [
    "#Take a look into brazilian employment status in absolute terms\n",
    "br = df.loc[df['Country'] == 'Brazil']['EmploymentStatus'].value_counts()\n",
    "br"
   ]
  },
  {
   "cell_type": "code",
   "execution_count": 11,
   "id": "d5955520",
   "metadata": {},
   "outputs": [
    {
     "data": {
      "text/plain": [
       "Employed full-time                                      8786\n",
       "Independent contractor, freelancer, or self-employed     773\n",
       "Employed part-time                                       598\n",
       "Not employed, and not looking for work                   536\n",
       "Not employed, but looking for work                       527\n",
       "I prefer not to say                                      177\n",
       "Retired                                                   58\n",
       "Name: EmploymentStatus, dtype: int64"
      ]
     },
     "execution_count": 11,
     "metadata": {},
     "output_type": "execute_result"
    }
   ],
   "source": [
    "#Take a look into american employment status in absolute terms\n",
    "us = df.loc[df['Country'] == 'United States']['EmploymentStatus'].value_counts()\n",
    "us"
   ]
  },
  {
   "cell_type": "code",
   "execution_count": 12,
   "id": "4fd2679f",
   "metadata": {
    "scrolled": true
   },
   "outputs": [
    {
     "name": "stdout",
     "output_type": "stream",
     "text": [
      "The first observation is about the representative of Brazil in comparison to US. Only 777 Brazilian people answers against 11455 Americans\n"
     ]
    }
   ],
   "source": [
    "print('The first observation is about the representative of Brazil in comparison to US. Only {} Brazilian people answers against {} Americans'.format(br.sum(),us.sum()))"
   ]
  },
  {
   "cell_type": "code",
   "execution_count": 13,
   "id": "15047cc4",
   "metadata": {},
   "outputs": [],
   "source": [
    "#Puting all togheter in a Data Frame\n",
    "contries = ['Brazil', 'United States']\n",
    "def emp_country(DF):\n",
    "    \"\"\"\n",
    "    INPUT: Dataframe\n",
    "    \n",
    "    OUTPUT: A new dataframe with Brazilain and American employment status and their respective values\n",
    "    \"\"\"\n",
    "    temp = pd.DataFrame()\n",
    "    df = DF.copy()\n",
    "    for i in contries:\n",
    "        \n",
    "        Country = df.loc[df['Country'] == i]\n",
    "        prop = Country['EmploymentStatus'].value_counts() / Country.shape[0]\n",
    "        temp[i] = prop\n",
    " \n",
    "    return temp"
   ]
  },
  {
   "cell_type": "code",
   "execution_count": 14,
   "id": "ce04156a",
   "metadata": {
    "scrolled": false
   },
   "outputs": [
    {
     "data": {
      "text/html": [
       "<div>\n",
       "<style scoped>\n",
       "    .dataframe tbody tr th:only-of-type {\n",
       "        vertical-align: middle;\n",
       "    }\n",
       "\n",
       "    .dataframe tbody tr th {\n",
       "        vertical-align: top;\n",
       "    }\n",
       "\n",
       "    .dataframe thead th {\n",
       "        text-align: right;\n",
       "    }\n",
       "</style>\n",
       "<table border=\"1\" class=\"dataframe\">\n",
       "  <thead>\n",
       "    <tr style=\"text-align: right;\">\n",
       "      <th></th>\n",
       "      <th>Brazil</th>\n",
       "      <th>United States</th>\n",
       "    </tr>\n",
       "  </thead>\n",
       "  <tbody>\n",
       "    <tr>\n",
       "      <th>Employed full-time</th>\n",
       "      <td>0.660232</td>\n",
       "      <td>0.767001</td>\n",
       "    </tr>\n",
       "    <tr>\n",
       "      <th>Independent contractor, freelancer, or self-employed</th>\n",
       "      <td>0.142857</td>\n",
       "      <td>0.067481</td>\n",
       "    </tr>\n",
       "    <tr>\n",
       "      <th>Employed part-time</th>\n",
       "      <td>0.081081</td>\n",
       "      <td>0.052204</td>\n",
       "    </tr>\n",
       "    <tr>\n",
       "      <th>Not employed, but looking for work</th>\n",
       "      <td>0.065637</td>\n",
       "      <td>0.046006</td>\n",
       "    </tr>\n",
       "    <tr>\n",
       "      <th>Not employed, and not looking for work</th>\n",
       "      <td>0.039897</td>\n",
       "      <td>0.046792</td>\n",
       "    </tr>\n",
       "    <tr>\n",
       "      <th>I prefer not to say</th>\n",
       "      <td>0.010296</td>\n",
       "      <td>0.015452</td>\n",
       "    </tr>\n",
       "  </tbody>\n",
       "</table>\n",
       "</div>"
      ],
      "text/plain": [
       "                                                      Brazil  United States\n",
       "Employed full-time                                  0.660232       0.767001\n",
       "Independent contractor, freelancer, or self-emp...  0.142857       0.067481\n",
       "Employed part-time                                  0.081081       0.052204\n",
       "Not employed, but looking for work                  0.065637       0.046006\n",
       "Not employed, and not looking for work              0.039897       0.046792\n",
       "I prefer not to say                                 0.010296       0.015452"
      ]
     },
     "execution_count": 14,
     "metadata": {},
     "output_type": "execute_result"
    }
   ],
   "source": [
    "#Compiled data\n",
    "emp_country(df)"
   ]
  },
  {
   "cell_type": "code",
   "execution_count": 15,
   "id": "8a6df9fb",
   "metadata": {
    "scrolled": true
   },
   "outputs": [
    {
     "data": {
      "text/plain": [
       "<AxesSubplot:>"
      ]
     },
     "execution_count": 15,
     "metadata": {},
     "output_type": "execute_result"
    },
    {
     "data": {
      "image/png": "[encoded data removed]",
      "text/plain": [
       "<Figure size 864x360 with 1 Axes>"
      ]
     },
     "metadata": {
      "needs_background": "light"
     },
     "output_type": "display_data"
    }
   ],
   "source": [
    "#Plot with the results above\n",
    "emp_country(df).plot(kind='barh', figsize=(12,5))"
   ]
  },
  {
   "cell_type": "markdown",
   "id": "af796df4",
   "metadata": {},
   "source": [
    "From the plot above, it is possible to say that in relative terms the US outweighs Brazil in the “Employed Full-time”, “Not Employed, and not looking for work” and “I prefer not to say”. While Brazil is more representative in the other categories. The major difference is in “Independent contractor, freelancer or self-employed”. In Brazil it is in the second position, with 14,28% while in US this is only 6,74%."
   ]
  },
  {
   "cell_type": "markdown",
   "id": "3511bef3",
   "metadata": {},
   "source": [
    "How the developers learn in these two countries?"
   ]
  },
  {
   "cell_type": "code",
   "execution_count": 18,
   "id": "12cf6054",
   "metadata": {},
   "outputs": [
    {
     "data": {
      "text/html": [
       "<div>\n",
       "<style scoped>\n",
       "    .dataframe tbody tr th:only-of-type {\n",
       "        vertical-align: middle;\n",
       "    }\n",
       "\n",
       "    .dataframe tbody tr th {\n",
       "        vertical-align: top;\n",
       "    }\n",
       "\n",
       "    .dataframe thead th {\n",
       "        text-align: right;\n",
       "    }\n",
       "</style>\n",
       "<table border=\"1\" class=\"dataframe\">\n",
       "  <thead>\n",
       "    <tr style=\"text-align: right;\">\n",
       "      <th></th>\n",
       "      <th>Respondent</th>\n",
       "      <th>Professional</th>\n",
       "      <th>ProgramHobby</th>\n",
       "      <th>Country</th>\n",
       "      <th>University</th>\n",
       "      <th>EmploymentStatus</th>\n",
       "      <th>FormalEducation</th>\n",
       "      <th>MajorUndergrad</th>\n",
       "      <th>HomeRemote</th>\n",
       "      <th>CompanySize</th>\n",
       "      <th>...</th>\n",
       "      <th>StackOverflowMakeMoney</th>\n",
       "      <th>Gender</th>\n",
       "      <th>HighestEducationParents</th>\n",
       "      <th>Race</th>\n",
       "      <th>SurveyLong</th>\n",
       "      <th>QuestionsInteresting</th>\n",
       "      <th>QuestionsConfusing</th>\n",
       "      <th>InterestedAnswers</th>\n",
       "      <th>Salary</th>\n",
       "      <th>ExpectedSalary</th>\n",
       "    </tr>\n",
       "  </thead>\n",
       "  <tbody>\n",
       "    <tr>\n",
       "      <th>20</th>\n",
       "      <td>21</td>\n",
       "      <td>Professional developer</td>\n",
       "      <td>Yes, I program as a hobby</td>\n",
       "      <td>Brazil</td>\n",
       "      <td>No</td>\n",
       "      <td>Employed full-time</td>\n",
       "      <td>Bachelor's degree</td>\n",
       "      <td>Computer science or software engineering</td>\n",
       "      <td>Less than half the time, but at least one day ...</td>\n",
       "      <td>10,000 or more employees</td>\n",
       "      <td>...</td>\n",
       "      <td>NaN</td>\n",
       "      <td>NaN</td>\n",
       "      <td>NaN</td>\n",
       "      <td>NaN</td>\n",
       "      <td>NaN</td>\n",
       "      <td>NaN</td>\n",
       "      <td>NaN</td>\n",
       "      <td>NaN</td>\n",
       "      <td>NaN</td>\n",
       "      <td>NaN</td>\n",
       "    </tr>\n",
       "    <tr>\n",
       "      <th>33</th>\n",
       "      <td>34</td>\n",
       "      <td>Professional developer</td>\n",
       "      <td>Yes, I program as a hobby</td>\n",
       "      <td>Brazil</td>\n",
       "      <td>Yes, full-time</td>\n",
       "      <td>Independent contractor, freelancer, or self-em...</td>\n",
       "      <td>Some college/university study without earning ...</td>\n",
       "      <td>Computer science or software engineering</td>\n",
       "      <td>All or almost all the time (I'm full-time remote)</td>\n",
       "      <td>NaN</td>\n",
       "      <td>...</td>\n",
       "      <td>Strongly disagree</td>\n",
       "      <td>Male</td>\n",
       "      <td>Some college/university study, no bachelor's d...</td>\n",
       "      <td>White or of European descent</td>\n",
       "      <td>Strongly agree</td>\n",
       "      <td>Agree</td>\n",
       "      <td>Strongly disagree</td>\n",
       "      <td>Strongly agree</td>\n",
       "      <td>NaN</td>\n",
       "      <td>NaN</td>\n",
       "    </tr>\n",
       "    <tr>\n",
       "      <th>52</th>\n",
       "      <td>53</td>\n",
       "      <td>Professional developer</td>\n",
       "      <td>Yes, I program as a hobby</td>\n",
       "      <td>Brazil</td>\n",
       "      <td>No</td>\n",
       "      <td>Employed full-time</td>\n",
       "      <td>Bachelor's degree</td>\n",
       "      <td>Computer engineering or electrical/electronics...</td>\n",
       "      <td>A few days each month</td>\n",
       "      <td>1,000 to 4,999 employees</td>\n",
       "      <td>...</td>\n",
       "      <td>Disagree</td>\n",
       "      <td>Male</td>\n",
       "      <td>A doctoral degree</td>\n",
       "      <td>Hispanic or Latino/Latina; White or of Europea...</td>\n",
       "      <td>Somewhat agree</td>\n",
       "      <td>Agree</td>\n",
       "      <td>Disagree</td>\n",
       "      <td>Strongly agree</td>\n",
       "      <td>15674.203822</td>\n",
       "      <td>NaN</td>\n",
       "    </tr>\n",
       "    <tr>\n",
       "      <th>88</th>\n",
       "      <td>89</td>\n",
       "      <td>Professional developer</td>\n",
       "      <td>Yes, both</td>\n",
       "      <td>Brazil</td>\n",
       "      <td>Yes, part-time</td>\n",
       "      <td>Employed full-time</td>\n",
       "      <td>Some college/university study without earning ...</td>\n",
       "      <td>Computer science or software engineering</td>\n",
       "      <td>Never</td>\n",
       "      <td>100 to 499 employees</td>\n",
       "      <td>...</td>\n",
       "      <td>Disagree</td>\n",
       "      <td>Male</td>\n",
       "      <td>A bachelor's degree</td>\n",
       "      <td>Hispanic or Latino/Latina</td>\n",
       "      <td>Strongly agree</td>\n",
       "      <td>Strongly agree</td>\n",
       "      <td>Strongly disagree</td>\n",
       "      <td>Strongly agree</td>\n",
       "      <td>NaN</td>\n",
       "      <td>NaN</td>\n",
       "    </tr>\n",
       "    <tr>\n",
       "      <th>89</th>\n",
       "      <td>90</td>\n",
       "      <td>Professional developer</td>\n",
       "      <td>Yes, I program as a hobby</td>\n",
       "      <td>Brazil</td>\n",
       "      <td>No</td>\n",
       "      <td>Employed full-time</td>\n",
       "      <td>Bachelor's degree</td>\n",
       "      <td>Computer science or software engineering</td>\n",
       "      <td>All or almost all the time (I'm full-time remote)</td>\n",
       "      <td>20 to 99 employees</td>\n",
       "      <td>...</td>\n",
       "      <td>Disagree</td>\n",
       "      <td>Male</td>\n",
       "      <td>High school</td>\n",
       "      <td>Hispanic or Latino/Latina</td>\n",
       "      <td>Strongly agree</td>\n",
       "      <td>Somewhat agree</td>\n",
       "      <td>Disagree</td>\n",
       "      <td>Agree</td>\n",
       "      <td>113694.267516</td>\n",
       "      <td>NaN</td>\n",
       "    </tr>\n",
       "    <tr>\n",
       "      <th>...</th>\n",
       "      <td>...</td>\n",
       "      <td>...</td>\n",
       "      <td>...</td>\n",
       "      <td>...</td>\n",
       "      <td>...</td>\n",
       "      <td>...</td>\n",
       "      <td>...</td>\n",
       "      <td>...</td>\n",
       "      <td>...</td>\n",
       "      <td>...</td>\n",
       "      <td>...</td>\n",
       "      <td>...</td>\n",
       "      <td>...</td>\n",
       "      <td>...</td>\n",
       "      <td>...</td>\n",
       "      <td>...</td>\n",
       "      <td>...</td>\n",
       "      <td>...</td>\n",
       "      <td>...</td>\n",
       "      <td>...</td>\n",
       "      <td>...</td>\n",
       "    </tr>\n",
       "    <tr>\n",
       "      <th>51112</th>\n",
       "      <td>51113</td>\n",
       "      <td>Professional developer</td>\n",
       "      <td>No</td>\n",
       "      <td>Brazil</td>\n",
       "      <td>No</td>\n",
       "      <td>Employed full-time</td>\n",
       "      <td>Bachelor's degree</td>\n",
       "      <td>Computer science or software engineering</td>\n",
       "      <td>Less than half the time, but at least one day ...</td>\n",
       "      <td>1,000 to 4,999 employees</td>\n",
       "      <td>...</td>\n",
       "      <td>NaN</td>\n",
       "      <td>Female</td>\n",
       "      <td>Primary/elementary school</td>\n",
       "      <td>Hispanic or Latino/Latina</td>\n",
       "      <td>Somewhat agree</td>\n",
       "      <td>Agree</td>\n",
       "      <td>Disagree</td>\n",
       "      <td>Agree</td>\n",
       "      <td>NaN</td>\n",
       "      <td>NaN</td>\n",
       "    </tr>\n",
       "    <tr>\n",
       "      <th>51139</th>\n",
       "      <td>51140</td>\n",
       "      <td>Professional developer</td>\n",
       "      <td>Yes, I contribute to open source projects</td>\n",
       "      <td>Brazil</td>\n",
       "      <td>Yes, part-time</td>\n",
       "      <td>Employed full-time</td>\n",
       "      <td>Master's degree</td>\n",
       "      <td>Computer science or software engineering</td>\n",
       "      <td>A few days each month</td>\n",
       "      <td>10,000 or more employees</td>\n",
       "      <td>...</td>\n",
       "      <td>Strongly disagree</td>\n",
       "      <td>Male</td>\n",
       "      <td>A bachelor's degree</td>\n",
       "      <td>White or of European descent</td>\n",
       "      <td>Strongly agree</td>\n",
       "      <td>Strongly agree</td>\n",
       "      <td>Strongly disagree</td>\n",
       "      <td>Strongly agree</td>\n",
       "      <td>39808.917197</td>\n",
       "      <td>NaN</td>\n",
       "    </tr>\n",
       "    <tr>\n",
       "      <th>51173</th>\n",
       "      <td>51174</td>\n",
       "      <td>Student</td>\n",
       "      <td>No</td>\n",
       "      <td>Brazil</td>\n",
       "      <td>Yes, part-time</td>\n",
       "      <td>Employed full-time</td>\n",
       "      <td>Bachelor's degree</td>\n",
       "      <td>Computer science or software engineering</td>\n",
       "      <td>Never</td>\n",
       "      <td>Fewer than 10 employees</td>\n",
       "      <td>...</td>\n",
       "      <td>Strongly disagree</td>\n",
       "      <td>Male</td>\n",
       "      <td>A master's degree</td>\n",
       "      <td>Hispanic or Latino/Latina</td>\n",
       "      <td>Strongly disagree</td>\n",
       "      <td>Agree</td>\n",
       "      <td>Strongly disagree</td>\n",
       "      <td>Strongly disagree</td>\n",
       "      <td>NaN</td>\n",
       "      <td>477.707006</td>\n",
       "    </tr>\n",
       "    <tr>\n",
       "      <th>51181</th>\n",
       "      <td>51182</td>\n",
       "      <td>Student</td>\n",
       "      <td>Yes, I program as a hobby</td>\n",
       "      <td>Brazil</td>\n",
       "      <td>Yes, part-time</td>\n",
       "      <td>Not employed, but looking for work</td>\n",
       "      <td>Secondary school</td>\n",
       "      <td>NaN</td>\n",
       "      <td>NaN</td>\n",
       "      <td>NaN</td>\n",
       "      <td>...</td>\n",
       "      <td>Disagree</td>\n",
       "      <td>Male</td>\n",
       "      <td>A master's degree</td>\n",
       "      <td>White or of European descent</td>\n",
       "      <td>Somewhat agree</td>\n",
       "      <td>Somewhat agree</td>\n",
       "      <td>Strongly disagree</td>\n",
       "      <td>Agree</td>\n",
       "      <td>NaN</td>\n",
       "      <td>NaN</td>\n",
       "    </tr>\n",
       "    <tr>\n",
       "      <th>51265</th>\n",
       "      <td>51266</td>\n",
       "      <td>Professional developer</td>\n",
       "      <td>Yes, both</td>\n",
       "      <td>Brazil</td>\n",
       "      <td>No</td>\n",
       "      <td>Employed full-time</td>\n",
       "      <td>Bachelor's degree</td>\n",
       "      <td>Computer science or software engineering</td>\n",
       "      <td>A few days each month</td>\n",
       "      <td>10 to 19 employees</td>\n",
       "      <td>...</td>\n",
       "      <td>Disagree</td>\n",
       "      <td>Male</td>\n",
       "      <td>A bachelor's degree</td>\n",
       "      <td>White or of European descent</td>\n",
       "      <td>Agree</td>\n",
       "      <td>Agree</td>\n",
       "      <td>Somewhat agree</td>\n",
       "      <td>Disagree</td>\n",
       "      <td>NaN</td>\n",
       "      <td>NaN</td>\n",
       "    </tr>\n",
       "  </tbody>\n",
       "</table>\n",
       "<p>777 rows × 154 columns</p>\n",
       "</div>"
      ],
      "text/plain": [
       "       Respondent            Professional  \\\n",
       "20             21  Professional developer   \n",
       "33             34  Professional developer   \n",
       "52             53  Professional developer   \n",
       "88             89  Professional developer   \n",
       "89             90  Professional developer   \n",
       "...           ...                     ...   \n",
       "51112       51113  Professional developer   \n",
       "51139       51140  Professional developer   \n",
       "51173       51174                 Student   \n",
       "51181       51182                 Student   \n",
       "51265       51266  Professional developer   \n",
       "\n",
       "                                    ProgramHobby Country      University  \\\n",
       "20                     Yes, I program as a hobby  Brazil              No   \n",
       "33                     Yes, I program as a hobby  Brazil  Yes, full-time   \n",
       "52                     Yes, I program as a hobby  Brazil              No   \n",
       "88                                     Yes, both  Brazil  Yes, part-time   \n",
       "89                     Yes, I program as a hobby  Brazil              No   \n",
       "...                                          ...     ...             ...   \n",
       "51112                                         No  Brazil              No   \n",
       "51139  Yes, I contribute to open source projects  Brazil  Yes, part-time   \n",
       "51173                                         No  Brazil  Yes, part-time   \n",
       "51181                  Yes, I program as a hobby  Brazil  Yes, part-time   \n",
       "51265                                  Yes, both  Brazil              No   \n",
       "\n",
       "                                        EmploymentStatus  \\\n",
       "20                                    Employed full-time   \n",
       "33     Independent contractor, freelancer, or self-em...   \n",
       "52                                    Employed full-time   \n",
       "88                                    Employed full-time   \n",
       "89                                    Employed full-time   \n",
       "...                                                  ...   \n",
       "51112                                 Employed full-time   \n",
       "51139                                 Employed full-time   \n",
       "51173                                 Employed full-time   \n",
       "51181                 Not employed, but looking for work   \n",
       "51265                                 Employed full-time   \n",
       "\n",
       "                                         FormalEducation  \\\n",
       "20                                     Bachelor's degree   \n",
       "33     Some college/university study without earning ...   \n",
       "52                                     Bachelor's degree   \n",
       "88     Some college/university study without earning ...   \n",
       "89                                     Bachelor's degree   \n",
       "...                                                  ...   \n",
       "51112                                  Bachelor's degree   \n",
       "51139                                    Master's degree   \n",
       "51173                                  Bachelor's degree   \n",
       "51181                                   Secondary school   \n",
       "51265                                  Bachelor's degree   \n",
       "\n",
       "                                          MajorUndergrad  \\\n",
       "20              Computer science or software engineering   \n",
       "33              Computer science or software engineering   \n",
       "52     Computer engineering or electrical/electronics...   \n",
       "88              Computer science or software engineering   \n",
       "89              Computer science or software engineering   \n",
       "...                                                  ...   \n",
       "51112           Computer science or software engineering   \n",
       "51139           Computer science or software engineering   \n",
       "51173           Computer science or software engineering   \n",
       "51181                                                NaN   \n",
       "51265           Computer science or software engineering   \n",
       "\n",
       "                                              HomeRemote  \\\n",
       "20     Less than half the time, but at least one day ...   \n",
       "33     All or almost all the time (I'm full-time remote)   \n",
       "52                                 A few days each month   \n",
       "88                                                 Never   \n",
       "89     All or almost all the time (I'm full-time remote)   \n",
       "...                                                  ...   \n",
       "51112  Less than half the time, but at least one day ...   \n",
       "51139                              A few days each month   \n",
       "51173                                              Never   \n",
       "51181                                                NaN   \n",
       "51265                              A few days each month   \n",
       "\n",
       "                    CompanySize  ... StackOverflowMakeMoney  Gender  \\\n",
       "20     10,000 or more employees  ...                    NaN     NaN   \n",
       "33                          NaN  ...      Strongly disagree    Male   \n",
       "52     1,000 to 4,999 employees  ...               Disagree    Male   \n",
       "88         100 to 499 employees  ...               Disagree    Male   \n",
       "89           20 to 99 employees  ...               Disagree    Male   \n",
       "...                         ...  ...                    ...     ...   \n",
       "51112  1,000 to 4,999 employees  ...                    NaN  Female   \n",
       "51139  10,000 or more employees  ...      Strongly disagree    Male   \n",
       "51173   Fewer than 10 employees  ...      Strongly disagree    Male   \n",
       "51181                       NaN  ...               Disagree    Male   \n",
       "51265        10 to 19 employees  ...               Disagree    Male   \n",
       "\n",
       "                                 HighestEducationParents  \\\n",
       "20                                                   NaN   \n",
       "33     Some college/university study, no bachelor's d...   \n",
       "52                                     A doctoral degree   \n",
       "88                                   A bachelor's degree   \n",
       "89                                           High school   \n",
       "...                                                  ...   \n",
       "51112                          Primary/elementary school   \n",
       "51139                                A bachelor's degree   \n",
       "51173                                  A master's degree   \n",
       "51181                                  A master's degree   \n",
       "51265                                A bachelor's degree   \n",
       "\n",
       "                                                    Race         SurveyLong  \\\n",
       "20                                                   NaN                NaN   \n",
       "33                          White or of European descent     Strongly agree   \n",
       "52     Hispanic or Latino/Latina; White or of Europea...     Somewhat agree   \n",
       "88                             Hispanic or Latino/Latina     Strongly agree   \n",
       "89                             Hispanic or Latino/Latina     Strongly agree   \n",
       "...                                                  ...                ...   \n",
       "51112                          Hispanic or Latino/Latina     Somewhat agree   \n",
       "51139                       White or of European descent     Strongly agree   \n",
       "51173                          Hispanic or Latino/Latina  Strongly disagree   \n",
       "51181                       White or of European descent     Somewhat agree   \n",
       "51265                       White or of European descent              Agree   \n",
       "\n",
       "      QuestionsInteresting QuestionsConfusing  InterestedAnswers  \\\n",
       "20                     NaN                NaN                NaN   \n",
       "33                   Agree  Strongly disagree     Strongly agree   \n",
       "52                   Agree           Disagree     Strongly agree   \n",
       "88          Strongly agree  Strongly disagree     Strongly agree   \n",
       "89          Somewhat agree           Disagree              Agree   \n",
       "...                    ...                ...                ...   \n",
       "51112                Agree           Disagree              Agree   \n",
       "51139       Strongly agree  Strongly disagree     Strongly agree   \n",
       "51173                Agree  Strongly disagree  Strongly disagree   \n",
       "51181       Somewhat agree  Strongly disagree              Agree   \n",
       "51265                Agree     Somewhat agree           Disagree   \n",
       "\n",
       "              Salary  ExpectedSalary  \n",
       "20               NaN             NaN  \n",
       "33               NaN             NaN  \n",
       "52      15674.203822             NaN  \n",
       "88               NaN             NaN  \n",
       "89     113694.267516             NaN  \n",
       "...              ...             ...  \n",
       "51112            NaN             NaN  \n",
       "51139   39808.917197             NaN  \n",
       "51173            NaN      477.707006  \n",
       "51181            NaN             NaN  \n",
       "51265            NaN             NaN  \n",
       "\n",
       "[777 rows x 154 columns]"
      ]
     },
     "execution_count": 18,
     "metadata": {},
     "output_type": "execute_result"
    }
   ],
   "source": [
    "df.loc[df['Country'] == 'Brazil']"
   ]
  },
  {
   "cell_type": "code",
   "execution_count": 23,
   "id": "fb3b0432",
   "metadata": {},
   "outputs": [],
   "source": [
    "\n",
    "#Spliting the multiples answers with more them one kind of education type and counting the unique values for each country\n",
    "\n",
    "from collections import Counter as ct\n",
    "\n",
    "def cl_df(DF,col,ref):\n",
    "    \"\"\"\n",
    "    INPUT:\n",
    "    DF: The general dataframe\n",
    "    col: Column of interest with the data to be analysed \n",
    "    ref: Reference of Country, used to filter the general dataframe\n",
    "    \n",
    "    OUTPUT:\n",
    "    New dataframe with each line with the sum of each possible value for the respective col\n",
    "    \n",
    "    \"\"\"\n",
    "    \n",
    "    split_list = []\n",
    "    df = DF.loc[DF['Country'] == ref]\n",
    "    df = df[col]\n",
    "    \n",
    "    \"\"\"\"\n",
    "    Using dropna instead of imputing values is preferible in this case to not dilute the percentage of each feature,\n",
    "    by changing the categorie's participation on the columns by imputing the mode for example. The idea is to compare features between countries and not make\n",
    "    predictions. If I need to create a model to predict some variable it would be necessary to impute values by using \n",
    "    mean, median or mode methods. The trade-off would be not remove information by removing NaN values against dilute the power of the feature\n",
    "    by reducing variability.\n",
    "    There are some conditions to drop NaN without worry. When 100% is missing, no variability or if it is the column\n",
    "    that I'm interested in predicting/analyzing. \n",
    "\n",
    "    \n",
    "    \n",
    "    \"\"\"    \n",
    "    full = list(df.dropna().str.split(';'))\n",
    "\n",
    "    \n",
    "    \n",
    "    for i in range (0, len(full)):\n",
    "        split_list += full[i]\n",
    "    split_list = list(map(lambda x: x.strip(), split_list))\n",
    "    \n",
    "    \n",
    "    Counter_list = ct(split_list)\n",
    "    new_df = pd.DataFrame({col:Counter_list.keys(), str(ref):Counter_list.values()})\n",
    "    \n",
    "    return new_df\n",
    "\n"
   ]
  },
  {
   "cell_type": "code",
   "execution_count": 24,
   "id": "1db6d6e0",
   "metadata": {
    "scrolled": true
   },
   "outputs": [
    {
     "ename": "TypeError",
     "evalue": "'float' object is not iterable",
     "output_type": "error",
     "traceback": [
      "\u001b[1;31m---------------------------------------------------------------------------\u001b[0m",
      "\u001b[1;31mTypeError\u001b[0m                                 Traceback (most recent call last)",
      "Input \u001b[1;32mIn [24]\u001b[0m, in \u001b[0;36m<cell line: 2>\u001b[1;34m()\u001b[0m\n\u001b[0;32m      1\u001b[0m \u001b[38;5;66;03m#Brazilian education\u001b[39;00m\n\u001b[1;32m----> 2\u001b[0m bra_education \u001b[38;5;241m=\u001b[39m \u001b[43mcl_df\u001b[49m\u001b[43m(\u001b[49m\u001b[43mdf\u001b[49m\u001b[43m,\u001b[49m\u001b[38;5;124;43m'\u001b[39;49m\u001b[38;5;124;43mEducationTypes\u001b[39;49m\u001b[38;5;124;43m'\u001b[39;49m\u001b[43m,\u001b[49m\u001b[43m \u001b[49m\u001b[38;5;124;43m'\u001b[39;49m\u001b[38;5;124;43mBrazil\u001b[39;49m\u001b[38;5;124;43m'\u001b[39;49m\u001b[43m)\u001b[49m\n\u001b[0;32m      3\u001b[0m bra_education\u001b[38;5;241m.\u001b[39mset_index(\u001b[38;5;124m'\u001b[39m\u001b[38;5;124mEducationTypes\u001b[39m\u001b[38;5;124m'\u001b[39m)\u001b[38;5;241m.\u001b[39msort_values(by\u001b[38;5;241m=\u001b[39m[\u001b[38;5;124m'\u001b[39m\u001b[38;5;124mBrazil\u001b[39m\u001b[38;5;124m'\u001b[39m],ascending\u001b[38;5;241m=\u001b[39m\u001b[38;5;28;01mFalse\u001b[39;00m)\n\u001b[0;32m      4\u001b[0m bra_education[\u001b[38;5;124m'\u001b[39m\u001b[38;5;124mBrazil\u001b[39m\u001b[38;5;124m'\u001b[39m] \u001b[38;5;241m=\u001b[39m bra_education[\u001b[38;5;124m'\u001b[39m\u001b[38;5;124mBrazil\u001b[39m\u001b[38;5;124m'\u001b[39m] \u001b[38;5;241m/\u001b[39m bra_education[\u001b[38;5;124m'\u001b[39m\u001b[38;5;124mBrazil\u001b[39m\u001b[38;5;124m'\u001b[39m]\u001b[38;5;241m.\u001b[39msum()\n",
      "Input \u001b[1;32mIn [23]\u001b[0m, in \u001b[0;36mcl_df\u001b[1;34m(DF, col, ref)\u001b[0m\n\u001b[0;32m     22\u001b[0m full \u001b[38;5;241m=\u001b[39m \u001b[38;5;28mlist\u001b[39m(df\u001b[38;5;241m.\u001b[39mstr\u001b[38;5;241m.\u001b[39msplit(\u001b[38;5;124m'\u001b[39m\u001b[38;5;124m;\u001b[39m\u001b[38;5;124m'\u001b[39m))\n\u001b[0;32m     25\u001b[0m \u001b[38;5;28;01mfor\u001b[39;00m i \u001b[38;5;129;01min\u001b[39;00m \u001b[38;5;28mrange\u001b[39m (\u001b[38;5;241m0\u001b[39m, \u001b[38;5;28mlen\u001b[39m(full)):\n\u001b[1;32m---> 26\u001b[0m     split_list \u001b[38;5;241m+\u001b[39m\u001b[38;5;241m=\u001b[39m full[i]\n\u001b[0;32m     27\u001b[0m split_list \u001b[38;5;241m=\u001b[39m \u001b[38;5;28mlist\u001b[39m(\u001b[38;5;28mmap\u001b[39m(\u001b[38;5;28;01mlambda\u001b[39;00m x: x\u001b[38;5;241m.\u001b[39mstrip(), split_list))\n\u001b[0;32m     30\u001b[0m Counter_list \u001b[38;5;241m=\u001b[39m ct(split_list)\n",
      "\u001b[1;31mTypeError\u001b[0m: 'float' object is not iterable"
     ]
    }
   ],
   "source": [
    "#Brazilian education\n",
    "bra_education = cl_df(df,'EducationTypes', 'Brazil')\n",
    "bra_education.set_index('EducationTypes').sort_values(by=['Brazil'],ascending=False)\n",
    "bra_education['Brazil'] = bra_education['Brazil'] / bra_education['Brazil'].sum()\n",
    "bra_education.sort_values(by=['Brazil'],ascending=False, inplace=True)\n",
    "bra_education"
   ]
  },
  {
   "cell_type": "code",
   "execution_count": null,
   "id": "6243e258",
   "metadata": {
    "scrolled": true
   },
   "outputs": [],
   "source": [
    "#American education\n",
    "us_education = cl_df(df,'EducationTypes', 'United States')\n",
    "us_education.set_index('EducationTypes').sort_values(by=['United States'],ascending=False)\n",
    "us_education['United States'] = us_education['United States'] / us_education['United States'].sum()\n",
    "us_education.sort_values(by=['United States'],ascending=False, inplace=True)\n",
    "us_education"
   ]
  },
  {
   "cell_type": "markdown",
   "id": "55c6fcfe",
   "metadata": {},
   "source": [
    "As the comparison indicates, in the first position for both countries, the main learning method in this field is self-taught independing of the country. However, the position of the other education types reveal that there are some important differences that reflects the Employment Status analysis. The US labor market is stronger and  gives more opportunities for people to learning on the job trainning, while in Brazil it appears only in fourth position. "
   ]
  },
  {
   "cell_type": "code",
   "execution_count": null,
   "id": "f311cccd",
   "metadata": {
    "scrolled": true
   },
   "outputs": [],
   "source": [
    "#Compiled data\n",
    "comparative = pd.merge(bra_education,us_education, on='EducationTypes', how='inner').set_index('EducationTypes')\n",
    "comparative.sort_values(by=['Brazil'],ascending=False, inplace=True)\n",
    "comparative"
   ]
  },
  {
   "cell_type": "code",
   "execution_count": null,
   "id": "3c1b6f09",
   "metadata": {
    "scrolled": false
   },
   "outputs": [],
   "source": [
    "#Plot with the results above\n",
    "comparative.plot(kind='barh', figsize=(12,10))"
   ]
  },
  {
   "cell_type": "markdown",
   "id": "acb88894",
   "metadata": {},
   "source": [
    "How experienced are the programmers in both countries?"
   ]
  },
  {
   "cell_type": "code",
   "execution_count": null,
   "id": "d06d8537",
   "metadata": {},
   "outputs": [],
   "source": [
    "#Proportion of Brazilian sample about YearsProgram\n",
    "bra_years_prog = cl_df(df,'YearsProgram','Brazil')\n",
    "#Percentage\n",
    "bra_years_prog['Brazil'] = bra_years_prog['Brazil'] / bra_years_prog['Brazil'].sum()\n",
    "bra_years_prog.sort_values(by='Brazil', ascending=False, inplace=True)\n",
    "bra_years_prog"
   ]
  },
  {
   "cell_type": "code",
   "execution_count": null,
   "id": "016fc6dc",
   "metadata": {
    "scrolled": true
   },
   "outputs": [],
   "source": [
    "#Proportion of US sample about YearsProgram\n",
    "us_years_prog = cl_df(df,'YearsProgram','United States')\n",
    "#Percentage\n",
    "us_years_prog['United States'] = us_years_prog['United States'] / us_years_prog['United States'].sum()\n",
    "us_years_prog.sort_values(by='United States', ascending=False, inplace=True)\n",
    "us_years_prog"
   ]
  },
  {
   "cell_type": "code",
   "execution_count": null,
   "id": "ab742815",
   "metadata": {
    "scrolled": false
   },
   "outputs": [],
   "source": [
    "#Compiled data\n",
    "years_prog = pd.merge(bra_years_prog, us_years_prog, on='YearsProgram', how='inner').set_index('YearsProgram')\n",
    "years_prog"
   ]
  },
  {
   "cell_type": "code",
   "execution_count": null,
   "id": "7de07588",
   "metadata": {
    "scrolled": false
   },
   "outputs": [],
   "source": [
    "#Plot with the results above\n",
    "years_prog.plot(kind='barh', figsize=(16,10))"
   ]
  },
  {
   "cell_type": "markdown",
   "id": "68bf6e31",
   "metadata": {},
   "source": [
    "The main difference appears when we talk about people with more than 20 years of programming. The US have more than the double than Brazil. The other levels have a little advantage regard of Brazil on average. "
   ]
  },
  {
   "cell_type": "markdown",
   "id": "5d62c8e2",
   "metadata": {},
   "source": [
    "Which developer type is more representative in each country?"
   ]
  },
  {
   "cell_type": "code",
   "execution_count": null,
   "id": "f0d468e4",
   "metadata": {
    "scrolled": false
   },
   "outputs": [],
   "source": [
    "#Brazil Developer Type\n",
    "bra_dev_type = cl_df(df, 'DeveloperType', 'Brazil')\n",
    "#Percentage\n",
    "bra_dev_type['Brazil'] = bra_dev_type['Brazil'] / bra_dev_type['Brazil'].sum()\n",
    "bra_dev_type.sort_values(by='Brazil', ascending=False, inplace=True)\n",
    "bra_dev_type"
   ]
  },
  {
   "cell_type": "code",
   "execution_count": null,
   "id": "1743b27f",
   "metadata": {
    "scrolled": true
   },
   "outputs": [],
   "source": [
    "#Us Developer Type\n",
    "us_dev_type = cl_df(df, 'DeveloperType', 'United States')\n",
    "#Percentage\n",
    "us_dev_type['United States'] = us_dev_type['United States'] / us_dev_type['United States'].sum()\n",
    "us_dev_type.sort_values(by='United States', ascending=False, inplace=True)\n",
    "us_dev_type"
   ]
  },
  {
   "cell_type": "code",
   "execution_count": null,
   "id": "6ca41bc5",
   "metadata": {
    "scrolled": true
   },
   "outputs": [],
   "source": [
    "#Compiling Brazil ans United States results\n",
    "dev_type = pd.merge(bra_dev_type,us_dev_type, on='DeveloperType')\n",
    "#Sorting values by develoer Types\n",
    "dev_type.set_index('DeveloperType', inplace=True)\n",
    "dev_type"
   ]
  },
  {
   "cell_type": "code",
   "execution_count": null,
   "id": "1e740376",
   "metadata": {},
   "outputs": [],
   "source": [
    "#Vizualizing the results\n",
    "dev_type.plot(kind='barh', figsize=(14,10))"
   ]
  },
  {
   "cell_type": "markdown",
   "id": "d840ce02",
   "metadata": {},
   "source": [
    "The main three Developer Types in both countries are Web developer, Desktop applications developer and Mobile developer. The second and third positions in Brazil have almost the same percentage, while in the United States the difference between these two positions is more evident."
   ]
  },
  {
   "cell_type": "markdown",
   "id": "282553dd",
   "metadata": {},
   "source": [
    "Are there huge differences about formal education among the countries?"
   ]
  },
  {
   "cell_type": "code",
   "execution_count": null,
   "id": "01d0d062",
   "metadata": {},
   "outputs": [],
   "source": [
    "#Selecting the columns Formal Education for a specific country\n",
    "bra_formal_edu = df.loc[df['Country'] == 'Brazil']['FormalEducation'].value_counts()\n",
    "#Transforming in percentage\n",
    "bra_formal_edu = bra_formal_edu / bra_formal_edu.sum()\n",
    "#Defining the plot configurations\n",
    "label_bra = list(bra_formal_edu.index)\n",
    "plt.figure(figsize=(12,10))\n",
    "plt.pie(bra_formal_edu, labels=label_bra, autopct='%1.1f%%',)\n",
    "plt.title('Brazilian Formal Education')"
   ]
  },
  {
   "cell_type": "code",
   "execution_count": null,
   "id": "853bffa5",
   "metadata": {},
   "outputs": [],
   "source": [
    "#Selecting the columns Formal Education for a specific country\n",
    "us_formal_edu = df.loc[df['Country'] == 'United States']['FormalEducation'].value_counts()\n",
    "#Transforming in percentage\n",
    "us_formal_edu = us_formal_edu / us_formal_edu.sum()\n",
    "#Defining the plot configurations\n",
    "label_us = list(us_formal_edu.index)\n",
    "plt.figure(figsize=(12,10))\n",
    "plt.pie(us_formal_edu, labels=label_us, autopct='%1.1f%%',)\n",
    "plt.title('American Formal Education')"
   ]
  },
  {
   "cell_type": "markdown",
   "id": "e2cc1565",
   "metadata": {},
   "source": [
    "Most developers in both countries have a Bachelor’s degree, however, in United States they are almost 50%, while in Brazil this number is near to 44%. The main difference is in the third and fourth positions. In the US, 16,7% have a Master’s degree and 6,7% went to Secondary school. In Brazil, 16,9% went to Secondary school and 12,1% have a Master’s degree."
   ]
  },
  {
   "cell_type": "markdown",
   "id": "b97b5486",
   "metadata": {},
   "source": [
    "Which is the most popular course among the developers?"
   ]
  },
  {
   "cell_type": "code",
   "execution_count": null,
   "id": "77807168",
   "metadata": {},
   "outputs": [],
   "source": [
    "#Brazil Major undergrad\n",
    "bra_majorundergrad = cl_df(df, 'MajorUndergrad', 'Brazil')\n",
    "bra_majorundergrad['Brazil'] = bra_majorundergrad['Brazil'] / bra_majorundergrad['Brazil'].sum()\n",
    "bra_majorundergrad.sort_values(by='Brazil', ascending=False, inplace=True)\n",
    "bra_majorundergrad"
   ]
  },
  {
   "cell_type": "code",
   "execution_count": null,
   "id": "6804de40",
   "metadata": {},
   "outputs": [],
   "source": [
    "#US Major undergrad\n",
    "us_majorundergrad = cl_df(df, 'MajorUndergrad', 'United States')\n",
    "us_majorundergrad['United States'] = us_majorundergrad['United States'] / us_majorundergrad['United States'].sum()\n",
    "us_majorundergrad.sort_values(by='United States', ascending=False, inplace=True)\n",
    "us_majorundergrad\n"
   ]
  },
  {
   "cell_type": "code",
   "execution_count": null,
   "id": "d1cabe83",
   "metadata": {},
   "outputs": [],
   "source": [
    "#Plot with results\n",
    "majorundergad_compiled = pd.merge(bra_majorundergrad, us_majorundergrad, on='MajorUndergrad', how='inner').set_index('MajorUndergrad')\n",
    "majorundergad_compiled.plot(kind='barh', figsize=(12,8))"
   ]
  },
  {
   "cell_type": "markdown",
   "id": "41acbf42",
   "metadata": {},
   "source": [
    "Most of the students undergrad in Computer science or Software engineering in both countries. In Brazil, the second position is Computer programming or web development, and Computer engineering or electrical/electronics engineering appears on the third position. US is less representative in both fields when compared to Brazil."
   ]
  }
 ],
 "metadata": {
  "kernelspec": {
   "display_name": "Python 3 (ipykernel)",
   "language": "python",
   "name": "python3"
  },
  "language_info": {
   "codemirror_mode": {
    "name": "ipython",
    "version": 3
   },
   "file_extension": ".py",
   "mimetype": "text/x-python",
   "name": "python",
   "nbconvert_exporter": "python",
   "pygments_lexer": "ipython3",
   "version": "3.9.12"
  }
 },
 "nbformat": 4,
 "nbformat_minor": 5
}
